{
 "cells": [
  {
   "cell_type": "code",
   "execution_count": 1,
   "id": "9a4fffb7",
   "metadata": {},
   "outputs": [
    {
     "name": "stdout",
     "output_type": "stream",
     "text": [
      "Installing CmdStan version: 2.28.1\n",
      "Install directory: /Users/philip/.cmdstan\n",
      "Downloading CmdStan version 2.28.1\n",
      "Download successful, file: /var/folders/kc/8f75rwcj3qb9w9wyprnlhdhm0000gn/T/tmppf5m52wp\n",
      "Unpacked download as cmdstan-2.28.1\n",
      "Building version cmdstan-2.28.1\n",
      "Test model compilation\n",
      "Installed cmdstan-2.28.1\n",
      "deleting tmpfiles dir: /var/folders/kc/8f75rwcj3qb9w9wyprnlhdhm0000gn/T/tmpepy7fwde\n",
      "done\n",
      "\n"
     ]
    },
    {
     "data": {
      "text/plain": [
       "True"
      ]
     },
     "execution_count": 1,
     "metadata": {},
     "output_type": "execute_result"
    }
   ],
   "source": [
    "import cmdstanpy\n",
    "cmdstanpy.install_cmdstan()"
   ]
  },
  {
   "cell_type": "code",
   "execution_count": null,
   "id": "db74b619",
   "metadata": {},
   "outputs": [],
   "source": [
    "data {\n",
    "    int<lower=0> N;\n",
    "    int<lower=0,upper=1> y[N];\n",
    " }\n",
    " parameters {\n",
    "     real<lower=0,upper=1> theta;\n",
    " }\n",
    "model {\n",
    "    theta ~ beta(1,1);  // uniform prior on interval 0,1\n",
    "    y ~ bernoulli(theta);\n",
    " }"
   ]
  },
  {
   "cell_type": "code",
   "execution_count": 2,
   "id": "eb6e1ebd",
   "metadata": {},
   "outputs": [
    {
     "name": "stderr",
     "output_type": "stream",
     "text": [
      "INFO:cmdstanpy:found newer exe file, not recompiling\n",
      "INFO:cmdstanpy:compiled model file: /Users/philip/.cmdstan/cmdstan-2.28.1/examples/bernoulli/bernoulli\n"
     ]
    },
    {
     "name": "stdout",
     "output_type": "stream",
     "text": [
      "CmdStanModel: name=bernoulli\n",
      "\t stan_file=/Users/philip/.cmdstan/cmdstan-2.28.1/examples/bernoulli/bernoulli.stan\n",
      "\t exe_file=/Users/philip/.cmdstan/cmdstan-2.28.1/examples/bernoulli/bernoulli\n",
      "\t compiler_options=stanc_options={}, cpp_options={}\n"
     ]
    }
   ],
   "source": [
    "import os\n",
    "from cmdstanpy import cmdstan_path, CmdStanModel\n",
    "\n",
    "# specify Stan program file\n",
    "stan_file = os.path.join(cmdstan_path(), 'examples', 'bernoulli', 'bernoulli.stan')\n",
    "\n",
    "# instantiate the model; compiles the Stan program as needed.\n",
    "model = CmdStanModel(stan_file=stan_file)\n",
    "\n",
    "# inspect model object\n",
    "print(model)"
   ]
  },
  {
   "cell_type": "code",
   "execution_count": 3,
   "id": "41ca4772",
   "metadata": {},
   "outputs": [
    {
     "name": "stderr",
     "output_type": "stream",
     "text": [
      "INFO:cmdstanpy:start chain 1\n",
      "INFO:cmdstanpy:start chain 2\n",
      "INFO:cmdstanpy:start chain 3\n",
      "INFO:cmdstanpy:start chain 4\n",
      "INFO:cmdstanpy:finish chain 1\n",
      "INFO:cmdstanpy:finish chain 3\n",
      "INFO:cmdstanpy:finish chain 2\n",
      "INFO:cmdstanpy:finish chain 4\n"
     ]
    },
    {
     "name": "stdout",
     "output_type": "stream",
     "text": [
      "CmdStanMCMC: model=bernoulli chains=4['method=sample', 'algorithm=hmc', 'adapt', 'engaged=1']\n",
      " csv_files:\n",
      "\t/var/folders/kc/8f75rwcj3qb9w9wyprnlhdhm0000gn/T/tmpoxjl95a7/bernoulli-202111021159-1-14c8_a2g.csv\n",
      "\t/var/folders/kc/8f75rwcj3qb9w9wyprnlhdhm0000gn/T/tmpoxjl95a7/bernoulli-202111021159-2-pg3sadoq.csv\n",
      "\t/var/folders/kc/8f75rwcj3qb9w9wyprnlhdhm0000gn/T/tmpoxjl95a7/bernoulli-202111021159-3-9e58c0mv.csv\n",
      "\t/var/folders/kc/8f75rwcj3qb9w9wyprnlhdhm0000gn/T/tmpoxjl95a7/bernoulli-202111021159-4-fofokz2h.csv\n",
      " output_files:\n",
      "\t/var/folders/kc/8f75rwcj3qb9w9wyprnlhdhm0000gn/T/tmpoxjl95a7/bernoulli-202111021159-1-14c8_a2g-stdout.txt\n",
      "\t/var/folders/kc/8f75rwcj3qb9w9wyprnlhdhm0000gn/T/tmpoxjl95a7/bernoulli-202111021159-2-pg3sadoq-stdout.txt\n",
      "\t/var/folders/kc/8f75rwcj3qb9w9wyprnlhdhm0000gn/T/tmpoxjl95a7/bernoulli-202111021159-3-9e58c0mv-stdout.txt\n",
      "\t/var/folders/kc/8f75rwcj3qb9w9wyprnlhdhm0000gn/T/tmpoxjl95a7/bernoulli-202111021159-4-fofokz2h-stdout.txt\n"
     ]
    }
   ],
   "source": [
    "# specify data file\n",
    "data_file = os.path.join(cmdstan_path(), 'examples', 'bernoulli', 'bernoulli.data.json')\n",
    "\n",
    "# fit the model\n",
    "fit = model.sample(data=data_file)\n",
    "\n",
    "# printing the object reports sampler commands, output files\n",
    "print(fit)"
   ]
  },
  {
   "cell_type": "code",
   "execution_count": 4,
   "id": "1ac2a94d",
   "metadata": {},
   "outputs": [
    {
     "data": {
      "text/plain": [
       "(4000,)"
      ]
     },
     "execution_count": 4,
     "metadata": {},
     "output_type": "execute_result"
    }
   ],
   "source": [
    "fit.draws().shape\n",
    "fit.draws(concat_chains=True).shape\n",
    "draws_theta = fit.stan_variable(var='theta')\n",
    "draws_theta.shape"
   ]
  },
  {
   "cell_type": "code",
   "execution_count": 6,
   "id": "b630f491",
   "metadata": {},
   "outputs": [
    {
     "data": {
      "text/html": [
       "<div>\n",
       "<style scoped>\n",
       "    .dataframe tbody tr th:only-of-type {\n",
       "        vertical-align: middle;\n",
       "    }\n",
       "\n",
       "    .dataframe tbody tr th {\n",
       "        vertical-align: top;\n",
       "    }\n",
       "\n",
       "    .dataframe thead th {\n",
       "        text-align: right;\n",
       "    }\n",
       "</style>\n",
       "<table border=\"1\" class=\"dataframe\">\n",
       "  <thead>\n",
       "    <tr style=\"text-align: right;\">\n",
       "      <th></th>\n",
       "      <th>Mean</th>\n",
       "      <th>MCSE</th>\n",
       "      <th>StdDev</th>\n",
       "      <th>5%</th>\n",
       "      <th>50%</th>\n",
       "      <th>95%</th>\n",
       "      <th>N_Eff</th>\n",
       "      <th>N_Eff/s</th>\n",
       "      <th>R_hat</th>\n",
       "    </tr>\n",
       "    <tr>\n",
       "      <th>name</th>\n",
       "      <th></th>\n",
       "      <th></th>\n",
       "      <th></th>\n",
       "      <th></th>\n",
       "      <th></th>\n",
       "      <th></th>\n",
       "      <th></th>\n",
       "      <th></th>\n",
       "      <th></th>\n",
       "    </tr>\n",
       "  </thead>\n",
       "  <tbody>\n",
       "    <tr>\n",
       "      <th>lp__</th>\n",
       "      <td>-7.20</td>\n",
       "      <td>0.0160</td>\n",
       "      <td>0.68</td>\n",
       "      <td>-8.600</td>\n",
       "      <td>-7.00</td>\n",
       "      <td>-6.80</td>\n",
       "      <td>1700.0</td>\n",
       "      <td>11000.0</td>\n",
       "      <td>1.0</td>\n",
       "    </tr>\n",
       "    <tr>\n",
       "      <th>theta</th>\n",
       "      <td>0.25</td>\n",
       "      <td>0.0032</td>\n",
       "      <td>0.12</td>\n",
       "      <td>0.084</td>\n",
       "      <td>0.23</td>\n",
       "      <td>0.46</td>\n",
       "      <td>1300.0</td>\n",
       "      <td>8800.0</td>\n",
       "      <td>1.0</td>\n",
       "    </tr>\n",
       "  </tbody>\n",
       "</table>\n",
       "</div>"
      ],
      "text/plain": [
       "       Mean    MCSE  StdDev     5%   50%   95%   N_Eff  N_Eff/s  R_hat\n",
       "name                                                                  \n",
       "lp__  -7.20  0.0160    0.68 -8.600 -7.00 -6.80  1700.0  11000.0    1.0\n",
       "theta  0.25  0.0032    0.12  0.084  0.23  0.46  1300.0   8800.0    1.0"
      ]
     },
     "execution_count": 6,
     "metadata": {},
     "output_type": "execute_result"
    }
   ],
   "source": [
    "fit.summary()"
   ]
  }
 ],
 "metadata": {
  "kernelspec": {
   "display_name": "Python 3",
   "language": "python",
   "name": "python3"
  },
  "language_info": {
   "codemirror_mode": {
    "name": "ipython",
    "version": 3
   },
   "file_extension": ".py",
   "mimetype": "text/x-python",
   "name": "python",
   "nbconvert_exporter": "python",
   "pygments_lexer": "ipython3",
   "version": "3.8.8"
  }
 },
 "nbformat": 4,
 "nbformat_minor": 5
}
