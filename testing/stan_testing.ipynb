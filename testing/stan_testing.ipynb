{
 "cells": [
  {
   "cell_type": "code",
   "execution_count": 1,
   "metadata": {},
   "outputs": [
    {
     "name": "stderr",
     "output_type": "stream",
     "text": [
      "INFO:numexpr.utils:NumExpr defaulting to 4 threads.\n"
     ]
    }
   ],
   "source": [
    "import pystan\n",
    "import matplotlib.pyplot as plt\n",
    "import seaborn as sns\n",
    "import pandas as pd\n",
    "import numpy as np"
   ]
  },
  {
   "cell_type": "code",
   "execution_count": 2,
   "metadata": {},
   "outputs": [],
   "source": [
    "sns.set()  # Nice plot aesthetic\n",
    "np.random.seed(101)\n",
    "\n",
    "model = \"\"\"\n",
    "data {\n",
    "    int<lower=0> N;\n",
    "    vector[N] x;\n",
    "    vector[N] y;\n",
    "}\n",
    "parameters {\n",
    "    real alpha;\n",
    "    real beta;\n",
    "    real<lower=0> sigma;\n",
    "}\n",
    "model {\n",
    "    y ~ normal(alpha + beta * x, sigma);\n",
    "}\n",
    "\"\"\""
   ]
  },
  {
   "cell_type": "code",
   "execution_count": 3,
   "metadata": {},
   "outputs": [
    {
     "data": {
      "text/plain": [
       "Text(0.5, 1.0, 'Scatter Plot of Data')"
      ]
     },
     "execution_count": 3,
     "metadata": {},
     "output_type": "execute_result"
    },
    {
     "data": {
      "image/png": "[encoded data removed]",
      "text/plain": [
       "<Figure size 432x288 with 1 Axes>"
      ]
     },
     "metadata": {},
     "output_type": "display_data"
    }
   ],
   "source": [
    "# Parameters to be inferred\n",
    "alpha = 4.0\n",
    "beta = 0.5\n",
    "sigma = 1.0\n",
    "\n",
    "# Generate and plot data\n",
    "x = 10 * np.random.rand(100)\n",
    "y = alpha + beta * x\n",
    "y = np.random.normal(y, scale=sigma)\n",
    "plt.scatter(x, y)\n",
    "\n",
    "plt.xlabel('x')\n",
    "plt.ylabel('y')\n",
    "plt.title('Scatter Plot of Data')"
   ]
  },
  {
   "cell_type": "code",
   "execution_count": 5,
   "metadata": {},
   "outputs": [],
   "source": [
    "!export CC=gcc"
   ]
  },
  {
   "cell_type": "code",
   "execution_count": 6,
   "metadata": {},
   "outputs": [],
   "source": [
    "!export CXX=g++"
   ]
  },
  {
   "cell_type": "code",
   "execution_count": 7,
   "metadata": {
    "scrolled": false
   },
   "outputs": [
    {
     "name": "stderr",
     "output_type": "stream",
     "text": [
      "INFO:pystan:COMPILING THE C++ CODE FOR MODEL anon_model_cb4cc9c2a04d0e34d711077557307fb7 NOW.\n",
      "clang-10: warning: -Wl,-export_dynamic: 'linker' input unused [-Wunused-command-line-argument]\n",
      "In file included from /var/folders/kc/8f75rwcj3qb9w9wyprnlhdhm0000gn/T/pystan_y2jj3lp4/stanfit4anon_model_cb4cc9c2a04d0e34d711077557307fb7_1819686728710042177.cpp:62:\n",
      "/Users/philip/miniconda3/envs/bpenv/include/python3.8/Python.h:14:2: error: \"Something's broken.  UCHAR_MAX should be defined in limits.h.\"\n",
      "#error \"Something's broken.  UCHAR_MAX should be defined in limits.h.\"\n",
      " ^\n",
      "/Users/philip/miniconda3/envs/bpenv/include/python3.8/Python.h:18:2: error: \"Python's source code assumes C's unsigned char is an 8-bit type.\"\n",
      "#error \"Python's source code assumes C's unsigned char is an 8-bit type.\"\n",
      " ^\n",
      "/Users/philip/miniconda3/envs/bpenv/include/python3.8/Python.h:27:5: error: \"Python.h requires that stdio.h define NULL.\"\n",
      "#   error \"Python.h requires that stdio.h define NULL.\"\n",
      "    ^\n",
      "In file included from /var/folders/kc/8f75rwcj3qb9w9wyprnlhdhm0000gn/T/pystan_y2jj3lp4/stanfit4anon_model_cb4cc9c2a04d0e34d711077557307fb7_1819686728710042177.cpp:62:\n",
      "In file included from /Users/philip/miniconda3/envs/bpenv/include/python3.8/Python.h:30:\n",
      "/Users/philip/miniconda3/envs/bpenv/bin/../include/c++/v1/string.h:73:64: error: use of undeclared identifier 'strchr'\n",
      "char* __libcpp_strchr(const char* __s, int __c) {return (char*)strchr(__s, __c);}\n",
      "                                                               ^\n",
      "/Users/philip/miniconda3/envs/bpenv/bin/../include/c++/v1/string.h:80:75: error: use of undeclared identifier 'strpbrk'\n",
      "char* __libcpp_strpbrk(const char* __s1, const char* __s2) {return (char*)strpbrk(__s1, __s2);}\n",
      "                                                                          ^\n",
      "/Users/philip/miniconda3/envs/bpenv/bin/../include/c++/v1/string.h:87:65: error: use of undeclared identifier 'strrchr'; did you mean 'strchr'?\n",
      "char* __libcpp_strrchr(const char* __s, int __c) {return (char*)strrchr(__s, __c);}\n",
      "                                                                ^\n",
      "/Users/philip/miniconda3/envs/bpenv/bin/../include/c++/v1/string.h:75:13: note: 'strchr' declared here\n",
      "const char* strchr(const char* __s, int __c) {return __libcpp_strchr(__s, __c);}\n",
      "            ^\n",
      "/Users/philip/miniconda3/envs/bpenv/bin/../include/c++/v1/string.h:94:49: error: unknown type name 'size_t'\n",
      "void* __libcpp_memchr(const void* __s, int __c, size_t __n) {return (void*)memchr(__s, __c, __n);}\n",
      "                                                ^\n",
      "/Users/philip/miniconda3/envs/bpenv/bin/../include/c++/v1/string.h:96:46: error: unknown type name 'size_t'\n",
      "const void* memchr(const void* __s, int __c, size_t __n) {return __libcpp_memchr(__s, __c, __n);}\n",
      "                                             ^\n",
      "/Users/philip/miniconda3/envs/bpenv/bin/../include/c++/v1/string.h:98:46: error: unknown type name 'size_t'\n",
      "      void* memchr(      void* __s, int __c, size_t __n) {return __libcpp_memchr(__s, __c, __n);}\n",
      "                                             ^\n",
      "/Users/philip/miniconda3/envs/bpenv/bin/../include/c++/v1/string.h:101:74: error: use of undeclared identifier 'strstr'; did you mean 'strchr'?\n",
      "char* __libcpp_strstr(const char* __s1, const char* __s2) {return (char*)strstr(__s1, __s2);}\n",
      "                                                                         ^\n",
      "/Users/philip/miniconda3/envs/bpenv/bin/../include/c++/v1/string.h:77:13: note: 'strchr' declared here\n",
      "      char* strchr(      char* __s, int __c) {return __libcpp_strchr(__s, __c);}\n",
      "            ^\n",
      "/Users/philip/miniconda3/envs/bpenv/bin/../include/c++/v1/string.h:101:74: error: no matching function for call to 'strchr'\n",
      "char* __libcpp_strstr(const char* __s1, const char* __s2) {return (char*)strstr(__s1, __s2);}\n",
      "                                                                         ^\n",
      "/Users/philip/miniconda3/envs/bpenv/bin/../include/c++/v1/string.h:77:13: note: candidate disabled: <no message provided>\n",
      "      char* strchr(      char* __s, int __c) {return __libcpp_strchr(__s, __c);}\n",
      "            ^\n",
      "/Users/philip/miniconda3/envs/bpenv/bin/../include/c++/v1/string.h:101:81: error: cannot initialize a parameter of type 'char *' with an lvalue of type 'const char *'\n",
      "char* __libcpp_strstr(const char* __s1, const char* __s2) {return (char*)strstr(__s1, __s2);}\n",
      "                                                                                ^~~~\n",
      "/Users/philip/miniconda3/envs/bpenv/bin/../include/c++/v1/string.h:77:32: note: passing argument to parameter '__s' here\n",
      "      char* strchr(      char* __s, int __c) {return __libcpp_strchr(__s, __c);}\n",
      "                               ^\n",
      "In file included from /var/folders/kc/8f75rwcj3qb9w9wyprnlhdhm0000gn/T/pystan_y2jj3lp4/stanfit4anon_model_cb4cc9c2a04d0e34d711077557307fb7_1819686728710042177.cpp:62:\n",
      "In file included from /Users/philip/miniconda3/envs/bpenv/include/python3.8/Python.h:34:\n",
      "/Users/philip/miniconda3/envs/bpenv/bin/../include/c++/v1/stdlib.h:142:34: error: unknown type name 'ldiv_t'\n",
      "inline _LIBCPP_INLINE_VISIBILITY ldiv_t div(long __x, long __y) _NOEXCEPT {\n",
      "                                 ^\n",
      "/Users/philip/miniconda3/envs/bpenv/bin/../include/c++/v1/stdlib.h:143:12: error: no member named 'ldiv' in the global namespace\n",
      "  return ::ldiv(__x, __y);\n",
      "         ~~^\n",
      "/Users/philip/miniconda3/envs/bpenv/bin/../include/c++/v1/stdlib.h:146:34: error: unknown type name 'lldiv_t'\n",
      "inline _LIBCPP_INLINE_VISIBILITY lldiv_t div(long long __x,\n",
      "                                 ^\n",
      "/Users/philip/miniconda3/envs/bpenv/bin/../include/c++/v1/stdlib.h:148:12: error: no member named 'lldiv' in the global namespace\n",
      "  return ::lldiv(__x, __y);\n",
      "         ~~^\n",
      "In file included from /var/folders/kc/8f75rwcj3qb9w9wyprnlhdhm0000gn/T/pystan_y2jj3lp4/stanfit4anon_model_cb4cc9c2a04d0e34d711077557307fb7_1819686728710042177.cpp:62:\n",
      "In file included from /Users/philip/miniconda3/envs/bpenv/include/python3.8/Python.h:63:\n",
      "In file included from /Users/philip/miniconda3/envs/bpenv/include/python3.8/pyport.h:212:\n",
      "/Users/philip/miniconda3/envs/bpenv/bin/../include/c++/v1/math.h:771:93: error: no member named 'acosf' in the global namespace; did you mean 'acos'?\n",
      "inline _LIBCPP_INLINE_VISIBILITY float       acos(float __lcpp_x) _NOEXCEPT       {return ::acosf(__lcpp_x);}\n",
      "                                                                                          ~~^\n",
      "/Users/philip/miniconda3/envs/bpenv/bin/../include/c++/v1/math.h:771:46: note: 'acos' declared here\n",
      "inline _LIBCPP_INLINE_VISIBILITY float       acos(float __lcpp_x) _NOEXCEPT       {return ::acosf(__lcpp_x);}\n",
      "                                             ^\n",
      "/Users/philip/miniconda3/envs/bpenv/bin/../include/c++/v1/math.h:772:93: error: no member named 'acosl' in the global namespace; did you mean 'acos'?\n",
      "inline _LIBCPP_INLINE_VISIBILITY long double acos(long double __lcpp_x) _NOEXCEPT {return ::acosl(__lcpp_x);}\n",
      "                                                                                          ~~^\n",
      "/Users/philip/miniconda3/envs/bpenv/bin/../include/c++/v1/math.h:771:46: note: 'acos' declared here\n",
      "inline _LIBCPP_INLINE_VISIBILITY float       acos(float __lcpp_x) _NOEXCEPT       {return ::acosf(__lcpp_x);}\n",
      "                                             ^\n",
      "/Users/philip/miniconda3/envs/bpenv/bin/../include/c++/v1/math.h:778:38: error: call to 'acos' is ambiguous\n",
      "acos(_A1 __lcpp_x) _NOEXCEPT {return ::acos((double)__lcpp_x);}\n",
      "                                     ^~~~~~\n",
      "/Users/philip/miniconda3/envs/bpenv/bin/../include/c++/v1/math.h:771:46: note: candidate function\n",
      "inline _LIBCPP_INLINE_VISIBILITY float       acos(float __lcpp_x) _NOEXCEPT       {return ::acosf(__lcpp_x);}\n",
      "                                             ^\n",
      "/Users/philip/miniconda3/envs/bpenv/bin/../include/c++/v1/math.h:772:46: note: candidate function\n",
      "inline _LIBCPP_INLINE_VISIBILITY long double acos(long double __lcpp_x) _NOEXCEPT {return ::acosl(__lcpp_x);}\n",
      "                                             ^\n",
      "fatal error: too many errors emitted, stopping now [-ferror-limit=]\n",
      "Stack dump:\n",
      "0.\tProgram arguments: x86_64-apple-darwin13.4.0-clang -fno-strict-aliasing -Wsign-compare -Wunreachable-code -DNDEBUG -fwrapv -O3 -Wall -Wstrict-prototypes -march=core2 -mtune=haswell -mssse3 -ftree-vectorize -fPIC -fPIE -fstack-protector-strong -O3 -pipe -fdebug-prefix-map=${SRC_DIR}=/usr/local/src/conda/${PKG_NAME}-${PKG_VERSION} -fdebug-prefix-map=/Users/philip/miniconda3/envs/bpenv=/usr/local/src/conda-prefix -flto -Wl,-export_dynamic -march=core2 -mtune=haswell -mssse3 -ftree-vectorize -fPIC -fPIE -fstack-protector-strong -O3 -march=core2 -mtune=haswell -mssse3 -ftree-vectorize -fPIC -fPIE -fstack-protector-strong -O2 -pipe -isystem /Users/philip/miniconda3/envs/bpenv/include -D_FORTIFY_SOURCE=2 -mmacosx-version-min=10.9 -isystem /Users/philip/miniconda3/envs/bpenv/include -DBOOST_RESULT_OF_USE_TR1 -DBOOST_NO_DECLTYPE -DBOOST_DISABLE_ASSERTS -I/var/folders/kc/8f75rwcj3qb9w9wyprnlhdhm0000gn/T/pystan_y2jj3lp4 -I/Users/philip/miniconda3/envs/bpenv/lib/python3.8/site-packages/pystan -I/Users/philip/miniconda3/envs/bpenv/lib/python3.8/site-packages/pystan/stan/src -I/Users/philip/miniconda3/envs/bpenv/lib/python3.8/site-packages/pystan/stan/lib/stan_math -I/Users/philip/miniconda3/envs/bpenv/lib/python3.8/site-packages/pystan/stan/lib/stan_math/lib/eigen_3.3.3 -I/Users/philip/miniconda3/envs/bpenv/lib/python3.8/site-packages/pystan/stan/lib/stan_math/lib/boost_1.69.0 -I/Users/philip/miniconda3/envs/bpenv/lib/python3.8/site-packages/pystan/stan/lib/stan_math/lib/sundials_4.1.0/include -I/Users/philip/miniconda3/envs/bpenv/lib/python3.8/site-packages/numpy/core/include -I/Users/philip/miniconda3/envs/bpenv/include/python3.8 -c /var/folders/kc/8f75rwcj3qb9w9wyprnlhdhm0000gn/T/pystan_y2jj3lp4/stanfit4anon_model_cb4cc9c2a04d0e34d711077557307fb7_1819686728710042177.cpp -o /var/folders/kc/8f75rwcj3qb9w9wyprnlhdhm0000gn/T/pystan_y2jj3lp4/var/folders/kc/8f75rwcj3qb9w9wyprnlhdhm0000gn/T/pystan_y2jj3lp4/stanfit4anon_model_cb4cc9c2a04d0e34d711077557307fb7_1819686728710042177.o -O2 -ftemplate-depth-256 -Wno-unused-function -Wno-uninitialized -std=c++1y \n",
      "1.\t/Users/philip/miniconda3/envs/bpenv/lib/python3.8/site-packages/pystan/stan/lib/stan_math/lib/boost_1.69.0/boost/units/detail/static_rational_power.hpp:169:74: current parser token 'type'\n",
      "2.\t/Users/philip/miniconda3/envs/bpenv/lib/python3.8/site-packages/pystan/stan/lib/stan_math/lib/boost_1.69.0/boost/units/detail/static_rational_power.hpp:19:1: parsing namespace 'boost'\n",
      "3.\t/Users/philip/miniconda3/envs/bpenv/lib/python3.8/site-packages/pystan/stan/lib/stan_math/lib/boost_1.69.0/boost/units/detail/static_rational_power.hpp:21:1: parsing namespace 'boost::units'\n",
      "4.\t/Users/philip/miniconda3/envs/bpenv/lib/python3.8/site-packages/pystan/stan/lib/stan_math/lib/boost_1.69.0/boost/units/detail/static_rational_power.hpp:26:1: parsing namespace 'boost::units::detail'\n",
      "5.\t/Users/philip/miniconda3/envs/bpenv/lib/python3.8/site-packages/pystan/stan/lib/stan_math/lib/boost_1.69.0/boost/units/detail/static_rational_power.hpp:163:1: parsing struct/union/class body 'boost::units::detail::static_int_power_sign_impl<N, true>'\n",
      "6.\t/Users/philip/miniconda3/envs/bpenv/lib/python3.8/site-packages/pystan/stan/lib/stan_math/lib/boost_1.69.0/boost/units/detail/static_rational_power.hpp:166:5: parsing struct/union/class body 'boost::units::detail::static_int_power_sign_impl<N, true>::apply'\n",
      "0  libLLVM-10.dylib                0x000000010a207765 llvm::sys::PrintStackTrace(llvm::raw_ostream&) + 37\n",
      "1  libLLVM-10.dylib                0x000000010a206668 llvm::sys::RunSignalHandlers() + 248\n",
      "2  libLLVM-10.dylib                0x000000010a206d32 llvm::sys::CleanupOnSignal(unsigned long) + 210\n",
      "3  libLLVM-10.dylib                0x000000010a14a5ad CrashRecoverySignalHandler(int) + 189\n",
      "4  libsystem_platform.dylib        0x00007fff2048bd7d _sigtramp + 29\n",
      "5  libsystem_platform.dylib        0x00007ff672c8afa8 _sigtramp + 18446744036438962760\n",
      "6  libclang-cpp.10.dylib           0x00000001083afeae clang::Sema::CheckTemplateArgument(clang::TemplateTypeParmDecl*, clang::TypeSourceInfo*) + 206\n",
      "7  libclang-cpp.10.dylib           0x00000001083ca2dd clang::Sema::CheckTemplateTypeArgument(clang::TemplateTypeParmDecl*, clang::TemplateArgumentLoc&, llvm::SmallVectorImpl<clang::TemplateArgument>&) + 1981\n",
      "8  libclang-cpp.10.dylib           0x00000001083be9bf clang::Sema::CheckTemplateArgumentList(clang::TemplateDecl*, clang::SourceLocation, clang::TemplateArgumentListInfo&, bool, llvm::SmallVectorImpl<clang::TemplateArgument>&, bool, bool*) + 975\n",
      "9  libclang-cpp.10.dylib           0x00000001083bd245 clang::Sema::CheckTemplateIdType(clang::TemplateName, clang::SourceLocation, clang::TemplateArgumentListInfo&) + 741\n",
      "10 libclang-cpp.10.dylib           0x0000000107e3d8af clang::Sema::ActOnCXXNestedNameSpecifier(clang::Scope*, clang::CXXScopeSpec&, clang::SourceLocation, clang::OpaquePtr<clang::TemplateName>, clang::SourceLocation, clang::SourceLocation, llvm::MutableArrayRef<clang::ParsedTemplateArgument>, clang::SourceLocation, clang::SourceLocation, bool) + 1695\n",
      "11 libclang-cpp.10.dylib           0x0000000107826592 clang::Parser::ParseOptionalCXXScopeSpecifier(clang::CXXScopeSpec&, clang::OpaquePtr<clang::QualType>, bool, bool*, bool, clang::IdentifierInfo**, bool, bool) + 1778\n",
      "12 libclang-cpp.10.dylib           0x00000001078938b2 clang::Parser::TryAnnotateTypeOrScopeToken() + 194\n",
      "13 libclang-cpp.10.dylib           0x00000001077e016a clang::Parser::ParseDeclarationSpecifiers(clang::DeclSpec&, clang::Parser::ParsedTemplateInfo const&, clang::AccessSpecifier, clang::Parser::DeclSpecContext, clang::Parser::LateParsedAttrList*) + 2298\n",
      "14 libclang-cpp.10.dylib           0x0000000107806644 clang::Parser::ParseCXXClassMemberDeclaration(clang::AccessSpecifier, clang::ParsedAttributes&, clang::Parser::ParsedTemplateInfo const&, clang::ParsingDeclRAIIObject*) + 2244\n",
      "15 libclang-cpp.10.dylib           0x0000000107809152 clang::Parser::ParseCXXClassMemberDeclarationWithPragmas(clang::AccessSpecifier&, clang::Parser::ParsedAttributesWithRange&, clang::TypeSpecifierType, clang::Decl*) + 1874\n",
      "16 libclang-cpp.10.dylib           0x00000001078036ca clang::Parser::ParseCXXMemberSpecification(clang::SourceLocation, clang::SourceLocation, clang::Parser::ParsedAttributesWithRange&, unsigned int, clang::Decl*) + 2378\n",
      "17 libclang-cpp.10.dylib           0x0000000107800f7a clang::Parser::ParseClassSpecifier(clang::tok::TokenKind, clang::SourceLocation, clang::DeclSpec&, clang::Parser::ParsedTemplateInfo const&, clang::AccessSpecifier, bool, clang::Parser::DeclSpecContext, clang::Parser::ParsedAttributesWithRange&) + 5402\n",
      "18 libclang-cpp.10.dylib           0x00000001077dfcb6 clang::Parser::ParseDeclarationSpecifiers(clang::DeclSpec&, clang::Parser::ParsedTemplateInfo const&, clang::AccessSpecifier, clang::Parser::DeclSpecContext, clang::Parser::LateParsedAttrList*) + 1094\n",
      "19 libclang-cpp.10.dylib           0x0000000107806644 clang::Parser::ParseCXXClassMemberDeclaration(clang::AccessSpecifier, clang::ParsedAttributes&, clang::Parser::ParsedTemplateInfo const&, clang::ParsingDeclRAIIObject*) + 2244\n",
      "20 libclang-cpp.10.dylib           0x000000010787bc4b clang::Parser::ParseSingleDeclarationAfterTemplate(clang::DeclaratorContext, clang::Parser::ParsedTemplateInfo const&, clang::ParsingDeclRAIIObject&, clang::SourceLocation&, clang::ParsedAttributes&, clang::AccessSpecifier) + 315\n",
      "21 libclang-cpp.10.dylib           0x000000010787b3a0 clang::Parser::ParseTemplateDeclarationOrSpecialization(clang::DeclaratorContext, clang::SourceLocation&, clang::ParsedAttributes&, clang::AccessSpecifier) + 1344\n",
      "22 libclang-cpp.10.dylib           0x0000000107805eac clang::Parser::ParseCXXClassMemberDeclaration(clang::AccessSpecifier, clang::ParsedAttributes&, clang::Parser::ParsedTemplateInfo const&, clang::ParsingDeclRAIIObject*) + 300\n",
      "23 libclang-cpp.10.dylib           0x0000000107809152 clang::Parser::ParseCXXClassMemberDeclarationWithPragmas(clang::AccessSpecifier&, clang::Parser::ParsedAttributesWithRange&, clang::TypeSpecifierType, clang::Decl*) + 1874\n",
      "24 libclang-cpp.10.dylib           0x00000001078036ca clang::Parser::ParseCXXMemberSpecification(clang::SourceLocation, clang::SourceLocation, clang::Parser::ParsedAttributesWithRange&, unsigned int, clang::Decl*) + 2378\n",
      "25 libclang-cpp.10.dylib           0x0000000107800f7a clang::Parser::ParseClassSpecifier(clang::tok::TokenKind, clang::SourceLocation, clang::DeclSpec&, clang::Parser::ParsedTemplateInfo const&, clang::AccessSpecifier, bool, clang::Parser::DeclSpecContext, clang::Parser::ParsedAttributesWithRange&) + 5402\n",
      "26 libclang-cpp.10.dylib           0x00000001077dfcb6 clang::Parser::ParseDeclarationSpecifiers(clang::DeclSpec&, clang::Parser::ParsedTemplateInfo const&, clang::AccessSpecifier, clang::Parser::DeclSpecContext, clang::Parser::LateParsedAttrList*) + 1094\n",
      "27 libclang-cpp.10.dylib           0x000000010787be71 clang::Parser::ParseSingleDeclarationAfterTemplate(clang::DeclaratorContext, clang::Parser::ParsedTemplateInfo const&, clang::ParsingDeclRAIIObject&, clang::SourceLocation&, clang::ParsedAttributes&, clang::AccessSpecifier) + 865\n",
      "28 libclang-cpp.10.dylib           0x000000010787b3a0 clang::Parser::ParseTemplateDeclarationOrSpecialization(clang::DeclaratorContext, clang::SourceLocation&, clang::ParsedAttributes&, clang::AccessSpecifier) + 1344\n",
      "29 libclang-cpp.10.dylib           0x000000010787acbf clang::Parser::ParseDeclarationStartingWithTemplate(clang::DeclaratorContext, clang::SourceLocation&, clang::ParsedAttributes&, clang::AccessSpecifier) + 255\n",
      "30 libclang-cpp.10.dylib           0x00000001077df0f9 clang::Parser::ParseDeclaration(clang::DeclaratorContext, clang::SourceLocation&, clang::Parser::ParsedAttributesWithRange&, clang::SourceLocation*) + 745\n",
      "31 libclang-cpp.10.dylib           0x000000010788da05 clang::Parser::ParseExternalDeclaration(clang::Parser::ParsedAttributesWithRange&, clang::ParsingDeclSpec*) + 213\n",
      "32 libclang-cpp.10.dylib           0x00000001077faa39 clang::Parser::ParseInnerNamespace(llvm::SmallVector<clang::Parser::InnerNamespaceInfo, 4u> const&, unsigned int, clang::SourceLocation&, clang::ParsedAttributes&, clang::BalancedDelimiterTracker&) + 281\n",
      "33 libclang-cpp.10.dylib           0x00000001077fa568 clang::Parser::ParseNamespace(clang::DeclaratorContext, clang::SourceLocation&, clang::SourceLocation) + 5992\n",
      "34 libclang-cpp.10.dylib           0x00000001077df2a6 clang::Parser::ParseDeclaration(clang::DeclaratorContext, clang::SourceLocation&, clang::Parser::ParsedAttributesWithRange&, clang::SourceLocation*) + 1174\n",
      "35 libclang-cpp.10.dylib           0x000000010788da05 clang::Parser::ParseExternalDeclaration(clang::Parser::ParsedAttributesWithRange&, clang::ParsingDeclSpec*) + 213\n",
      "36 libclang-cpp.10.dylib           0x00000001077faa39 clang::Parser::ParseInnerNamespace(llvm::SmallVector<clang::Parser::InnerNamespaceInfo, 4u> const&, unsigned int, clang::SourceLocation&, clang::ParsedAttributes&, clang::BalancedDelimiterTracker&) + 281\n",
      "37 libclang-cpp.10.dylib           0x00000001077fa568 clang::Parser::ParseNamespace(clang::DeclaratorContext, clang::SourceLocation&, clang::SourceLocation) + 5992\n",
      "38 libclang-cpp.10.dylib           0x00000001077df2a6 clang::Parser::ParseDeclaration(clang::DeclaratorContext, clang::SourceLocation&, clang::Parser::ParsedAttributesWithRange&, clang::SourceLocation*) + 1174\n",
      "39 libclang-cpp.10.dylib           0x000000010788da05 clang::Parser::ParseExternalDeclaration(clang::Parser::ParsedAttributesWithRange&, clang::ParsingDeclSpec*) + 213\n",
      "40 libclang-cpp.10.dylib           0x00000001077faa39 clang::Parser::ParseInnerNamespace(llvm::SmallVector<clang::Parser::InnerNamespaceInfo, 4u> const&, unsigned int, clang::SourceLocation&, clang::ParsedAttributes&, clang::BalancedDelimiterTracker&) + 281\n",
      "41 libclang-cpp.10.dylib           0x00000001077fa568 clang::Parser::ParseNamespace(clang::DeclaratorContext, clang::SourceLocation&, clang::SourceLocation) + 5992\n",
      "42 libclang-cpp.10.dylib           0x00000001077df2a6 clang::Parser::ParseDeclaration(clang::DeclaratorContext, clang::SourceLocation&, clang::Parser::ParsedAttributesWithRange&, clang::SourceLocation*) + 1174\n",
      "43 libclang-cpp.10.dylib           0x000000010788da05 clang::Parser::ParseExternalDeclaration(clang::Parser::ParsedAttributesWithRange&, clang::ParsingDeclSpec*) + 213\n",
      "44 libclang-cpp.10.dylib           0x000000010788c53a clang::Parser::ParseTopLevelDecl(clang::OpaquePtr<clang::DeclGroupRef>&, bool) + 1066\n",
      "45 libclang-cpp.10.dylib           0x00000001077cdeed clang::ParseAST(clang::Sema&, bool, bool) + 541\n",
      "46 libclang-cpp.10.dylib           0x0000000108ffaeb8 clang::FrontendAction::Execute() + 168\n",
      "47 libclang-cpp.10.dylib           0x0000000108f8edc1 clang::CompilerInstance::ExecuteAction(clang::FrontendAction&) + 1553\n",
      "48 libclang-cpp.10.dylib           0x000000010906e81e clang::ExecuteCompilerInvocation(clang::CompilerInstance*) + 2190\n",
      "49 x86_64-apple-darwin13.4.0-clang 0x0000000105d5ae11 cc1_main(llvm::ArrayRef<char const*>, char const*, void*) + 2177\n",
      "50 x86_64-apple-darwin13.4.0-clang 0x0000000105d58cd6 ExecuteCC1Tool(llvm::SmallVectorImpl<char const*>&) + 358\n",
      "51 libclang-cpp.10.dylib           0x0000000108c260a7 void llvm::function_ref<void ()>::callback_fn<clang::driver::CC1Command::Execute(llvm::ArrayRef<llvm::Optional<llvm::StringRef> >, std::__1::basic_string<char, std::__1::char_traits<char>, std::__1::allocator<char> >*, bool*) const::$_1>(long) + 23\n",
      "52 libLLVM-10.dylib                0x000000010a14a36a llvm::CrashRecoveryContext::RunSafely(llvm::function_ref<void ()>) + 218\n",
      "53 libclang-cpp.10.dylib           0x0000000108c25434 clang::driver::CC1Command::Execute(llvm::ArrayRef<llvm::Optional<llvm::StringRef> >, std::__1::basic_string<char, std::__1::char_traits<char>, std::__1::allocator<char> >*, bool*) const + 404\n",
      "54 libclang-cpp.10.dylib           0x0000000108bf0021 clang::driver::Compilation::ExecuteCommand(clang::driver::Command const&, clang::driver::Command const*&) const + 433\n",
      "55 libclang-cpp.10.dylib           0x0000000108bf05dc clang::driver::Compilation::ExecuteJobs(clang::driver::JobList const&, llvm::SmallVectorImpl<std::__1::pair<int, clang::driver::Command const*> >&) const + 140\n",
      "56 libclang-cpp.10.dylib           0x0000000108c0b7fc clang::driver::Driver::ExecuteCompilation(clang::driver::Compilation&, llvm::SmallVectorImpl<std::__1::pair<int, clang::driver::Command const*> >&) + 444\n",
      "57 x86_64-apple-darwin13.4.0-clang 0x0000000105d585ce main + 10590\n",
      "58 libdyld.dylib                   0x00007fff20461f3d start + 1\n",
      "clang-10: error: clang frontend command failed due to signal (use -v to see invocation)\n",
      "clang version 10.0.0 \n",
      "Target: x86_64-apple-darwin13.4.0\n",
      "Thread model: posix\n",
      "InstalledDir: /Users/philip/miniconda3/envs/bpenv/bin\n",
      "clang-10: note: diagnostic msg: PLEASE submit a bug report to  and include the crash backtrace, preprocessed source, and associated run script.\n"
     ]
    },
    {
     "name": "stderr",
     "output_type": "stream",
     "text": [
      "clang-10: note: diagnostic msg: Error generating preprocessed source(s).\n"
     ]
    },
    {
     "ename": "CompileError",
     "evalue": "command 'x86_64-apple-darwin13.4.0-clang' failed with exit status 254",
     "output_type": "error",
     "traceback": [
      "\u001b[0;31m---------------------------------------------------------------------------\u001b[0m",
      "\u001b[0;31mDistutilsExecError\u001b[0m                        Traceback (most recent call last)",
      "\u001b[0;32m~/miniconda3/envs/bpenv/lib/python3.8/distutils/unixccompiler.py\u001b[0m in \u001b[0;36m_compile\u001b[0;34m(self, obj, src, ext, cc_args, extra_postargs, pp_opts)\u001b[0m\n\u001b[1;32m    116\u001b[0m         \u001b[0;32mtry\u001b[0m\u001b[0;34m:\u001b[0m\u001b[0;34m\u001b[0m\u001b[0;34m\u001b[0m\u001b[0m\n\u001b[0;32m--> 117\u001b[0;31m             self.spawn(compiler_so + cc_args + [src, '-o', obj] +\n\u001b[0m\u001b[1;32m    118\u001b[0m                        extra_postargs)\n",
      "\u001b[0;32m~/miniconda3/envs/bpenv/lib/python3.8/distutils/ccompiler.py\u001b[0m in \u001b[0;36mspawn\u001b[0;34m(self, cmd)\u001b[0m\n\u001b[1;32m    909\u001b[0m     \u001b[0;32mdef\u001b[0m \u001b[0mspawn\u001b[0m\u001b[0;34m(\u001b[0m\u001b[0mself\u001b[0m\u001b[0;34m,\u001b[0m \u001b[0mcmd\u001b[0m\u001b[0;34m)\u001b[0m\u001b[0;34m:\u001b[0m\u001b[0;34m\u001b[0m\u001b[0;34m\u001b[0m\u001b[0m\n\u001b[0;32m--> 910\u001b[0;31m         \u001b[0mspawn\u001b[0m\u001b[0;34m(\u001b[0m\u001b[0mcmd\u001b[0m\u001b[0;34m,\u001b[0m \u001b[0mdry_run\u001b[0m\u001b[0;34m=\u001b[0m\u001b[0mself\u001b[0m\u001b[0;34m.\u001b[0m\u001b[0mdry_run\u001b[0m\u001b[0;34m)\u001b[0m\u001b[0;34m\u001b[0m\u001b[0;34m\u001b[0m\u001b[0m\n\u001b[0m\u001b[1;32m    911\u001b[0m \u001b[0;34m\u001b[0m\u001b[0m\n",
      "\u001b[0;32m~/miniconda3/envs/bpenv/lib/python3.8/distutils/spawn.py\u001b[0m in \u001b[0;36mspawn\u001b[0;34m(cmd, search_path, verbose, dry_run)\u001b[0m\n\u001b[1;32m     35\u001b[0m     \u001b[0;32mif\u001b[0m \u001b[0mos\u001b[0m\u001b[0;34m.\u001b[0m\u001b[0mname\u001b[0m \u001b[0;34m==\u001b[0m \u001b[0;34m'posix'\u001b[0m\u001b[0;34m:\u001b[0m\u001b[0;34m\u001b[0m\u001b[0;34m\u001b[0m\u001b[0m\n\u001b[0;32m---> 36\u001b[0;31m         \u001b[0m_spawn_posix\u001b[0m\u001b[0;34m(\u001b[0m\u001b[0mcmd\u001b[0m\u001b[0;34m,\u001b[0m \u001b[0msearch_path\u001b[0m\u001b[0;34m,\u001b[0m \u001b[0mdry_run\u001b[0m\u001b[0;34m=\u001b[0m\u001b[0mdry_run\u001b[0m\u001b[0;34m)\u001b[0m\u001b[0;34m\u001b[0m\u001b[0;34m\u001b[0m\u001b[0m\n\u001b[0m\u001b[1;32m     37\u001b[0m     \u001b[0;32melif\u001b[0m \u001b[0mos\u001b[0m\u001b[0;34m.\u001b[0m\u001b[0mname\u001b[0m \u001b[0;34m==\u001b[0m \u001b[0;34m'nt'\u001b[0m\u001b[0;34m:\u001b[0m\u001b[0;34m\u001b[0m\u001b[0;34m\u001b[0m\u001b[0m\n",
      "\u001b[0;32m~/miniconda3/envs/bpenv/lib/python3.8/distutils/spawn.py\u001b[0m in \u001b[0;36m_spawn_posix\u001b[0;34m(cmd, search_path, verbose, dry_run)\u001b[0m\n\u001b[1;32m    156\u001b[0m                         \u001b[0mcmd\u001b[0m \u001b[0;34m=\u001b[0m \u001b[0mexecutable\u001b[0m\u001b[0;34m\u001b[0m\u001b[0;34m\u001b[0m\u001b[0m\n\u001b[0;32m--> 157\u001b[0;31m                     raise DistutilsExecError(\n\u001b[0m\u001b[1;32m    158\u001b[0m                           \u001b[0;34m\"command %r failed with exit status %d\"\u001b[0m\u001b[0;34m\u001b[0m\u001b[0;34m\u001b[0m\u001b[0m\n",
      "\u001b[0;31mDistutilsExecError\u001b[0m: command 'x86_64-apple-darwin13.4.0-clang' failed with exit status 254",
      "\nDuring handling of the above exception, another exception occurred:\n",
      "\u001b[0;31mCompileError\u001b[0m                              Traceback (most recent call last)",
      "\u001b[0;32m/var/folders/kc/8f75rwcj3qb9w9wyprnlhdhm0000gn/T/ipykernel_66311/2002252251.py\u001b[0m in \u001b[0;36m<module>\u001b[0;34m\u001b[0m\n\u001b[1;32m      3\u001b[0m \u001b[0;34m\u001b[0m\u001b[0m\n\u001b[1;32m      4\u001b[0m \u001b[0;31m# Compile the model\u001b[0m\u001b[0;34m\u001b[0m\u001b[0;34m\u001b[0m\u001b[0;34m\u001b[0m\u001b[0m\n\u001b[0;32m----> 5\u001b[0;31m \u001b[0msm\u001b[0m \u001b[0;34m=\u001b[0m \u001b[0mpystan\u001b[0m\u001b[0;34m.\u001b[0m\u001b[0mStanModel\u001b[0m\u001b[0;34m(\u001b[0m\u001b[0mmodel_code\u001b[0m\u001b[0;34m=\u001b[0m\u001b[0mmodel\u001b[0m\u001b[0;34m)\u001b[0m\u001b[0;34m\u001b[0m\u001b[0;34m\u001b[0m\u001b[0m\n\u001b[0m\u001b[1;32m      6\u001b[0m \u001b[0;34m\u001b[0m\u001b[0m\n\u001b[1;32m      7\u001b[0m \u001b[0;31m# Train the model and generate samples\u001b[0m\u001b[0;34m\u001b[0m\u001b[0;34m\u001b[0m\u001b[0;34m\u001b[0m\u001b[0m\n",
      "\u001b[0;32m~/miniconda3/envs/bpenv/lib/python3.8/site-packages/pystan/model.py\u001b[0m in \u001b[0;36m__init__\u001b[0;34m(self, file, charset, model_name, model_code, stanc_ret, include_paths, boost_lib, eigen_lib, verbose, obfuscate_model_name, extra_compile_args, allow_undefined, include_dirs, includes)\u001b[0m\n\u001b[1;32m    376\u001b[0m \u001b[0;34m\u001b[0m\u001b[0m\n\u001b[1;32m    377\u001b[0m         \u001b[0;32mtry\u001b[0m\u001b[0;34m:\u001b[0m\u001b[0;34m\u001b[0m\u001b[0;34m\u001b[0m\u001b[0m\n\u001b[0;32m--> 378\u001b[0;31m             \u001b[0mbuild_extension\u001b[0m\u001b[0;34m.\u001b[0m\u001b[0mrun\u001b[0m\u001b[0;34m(\u001b[0m\u001b[0;34m)\u001b[0m\u001b[0;34m\u001b[0m\u001b[0;34m\u001b[0m\u001b[0m\n\u001b[0m\u001b[1;32m    379\u001b[0m         \u001b[0;32mfinally\u001b[0m\u001b[0;34m:\u001b[0m\u001b[0;34m\u001b[0m\u001b[0;34m\u001b[0m\u001b[0m\n\u001b[1;32m    380\u001b[0m             \u001b[0;32mif\u001b[0m \u001b[0mredirect_stderr\u001b[0m\u001b[0;34m:\u001b[0m\u001b[0;34m\u001b[0m\u001b[0;34m\u001b[0m\u001b[0m\n",
      "\u001b[0;32m~/miniconda3/envs/bpenv/lib/python3.8/distutils/command/build_ext.py\u001b[0m in \u001b[0;36mrun\u001b[0;34m(self)\u001b[0m\n\u001b[1;32m    338\u001b[0m \u001b[0;34m\u001b[0m\u001b[0m\n\u001b[1;32m    339\u001b[0m         \u001b[0;31m# Now actually compile and link everything.\u001b[0m\u001b[0;34m\u001b[0m\u001b[0;34m\u001b[0m\u001b[0;34m\u001b[0m\u001b[0m\n\u001b[0;32m--> 340\u001b[0;31m         \u001b[0mself\u001b[0m\u001b[0;34m.\u001b[0m\u001b[0mbuild_extensions\u001b[0m\u001b[0;34m(\u001b[0m\u001b[0;34m)\u001b[0m\u001b[0;34m\u001b[0m\u001b[0;34m\u001b[0m\u001b[0m\n\u001b[0m\u001b[1;32m    341\u001b[0m \u001b[0;34m\u001b[0m\u001b[0m\n\u001b[1;32m    342\u001b[0m     \u001b[0;32mdef\u001b[0m \u001b[0mcheck_extensions_list\u001b[0m\u001b[0;34m(\u001b[0m\u001b[0mself\u001b[0m\u001b[0;34m,\u001b[0m \u001b[0mextensions\u001b[0m\u001b[0;34m)\u001b[0m\u001b[0;34m:\u001b[0m\u001b[0;34m\u001b[0m\u001b[0;34m\u001b[0m\u001b[0m\n",
      "\u001b[0;32m~/miniconda3/envs/bpenv/lib/python3.8/distutils/command/build_ext.py\u001b[0m in \u001b[0;36mbuild_extensions\u001b[0;34m(self)\u001b[0m\n\u001b[1;32m    447\u001b[0m             \u001b[0mself\u001b[0m\u001b[0;34m.\u001b[0m\u001b[0m_build_extensions_parallel\u001b[0m\u001b[0;34m(\u001b[0m\u001b[0;34m)\u001b[0m\u001b[0;34m\u001b[0m\u001b[0;34m\u001b[0m\u001b[0m\n\u001b[1;32m    448\u001b[0m         \u001b[0;32melse\u001b[0m\u001b[0;34m:\u001b[0m\u001b[0;34m\u001b[0m\u001b[0;34m\u001b[0m\u001b[0m\n\u001b[0;32m--> 449\u001b[0;31m             \u001b[0mself\u001b[0m\u001b[0;34m.\u001b[0m\u001b[0m_build_extensions_serial\u001b[0m\u001b[0;34m(\u001b[0m\u001b[0;34m)\u001b[0m\u001b[0;34m\u001b[0m\u001b[0;34m\u001b[0m\u001b[0m\n\u001b[0m\u001b[1;32m    450\u001b[0m \u001b[0;34m\u001b[0m\u001b[0m\n\u001b[1;32m    451\u001b[0m     \u001b[0;32mdef\u001b[0m \u001b[0m_build_extensions_parallel\u001b[0m\u001b[0;34m(\u001b[0m\u001b[0mself\u001b[0m\u001b[0;34m)\u001b[0m\u001b[0;34m:\u001b[0m\u001b[0;34m\u001b[0m\u001b[0;34m\u001b[0m\u001b[0m\n",
      "\u001b[0;32m~/miniconda3/envs/bpenv/lib/python3.8/distutils/command/build_ext.py\u001b[0m in \u001b[0;36m_build_extensions_serial\u001b[0;34m(self)\u001b[0m\n\u001b[1;32m    472\u001b[0m         \u001b[0;32mfor\u001b[0m \u001b[0mext\u001b[0m \u001b[0;32min\u001b[0m \u001b[0mself\u001b[0m\u001b[0;34m.\u001b[0m\u001b[0mextensions\u001b[0m\u001b[0;34m:\u001b[0m\u001b[0;34m\u001b[0m\u001b[0;34m\u001b[0m\u001b[0m\n\u001b[1;32m    473\u001b[0m             \u001b[0;32mwith\u001b[0m \u001b[0mself\u001b[0m\u001b[0;34m.\u001b[0m\u001b[0m_filter_build_errors\u001b[0m\u001b[0;34m(\u001b[0m\u001b[0mext\u001b[0m\u001b[0;34m)\u001b[0m\u001b[0;34m:\u001b[0m\u001b[0;34m\u001b[0m\u001b[0;34m\u001b[0m\u001b[0m\n\u001b[0;32m--> 474\u001b[0;31m                 \u001b[0mself\u001b[0m\u001b[0;34m.\u001b[0m\u001b[0mbuild_extension\u001b[0m\u001b[0;34m(\u001b[0m\u001b[0mext\u001b[0m\u001b[0;34m)\u001b[0m\u001b[0;34m\u001b[0m\u001b[0;34m\u001b[0m\u001b[0m\n\u001b[0m\u001b[1;32m    475\u001b[0m \u001b[0;34m\u001b[0m\u001b[0m\n\u001b[1;32m    476\u001b[0m     \u001b[0;34m@\u001b[0m\u001b[0mcontextlib\u001b[0m\u001b[0;34m.\u001b[0m\u001b[0mcontextmanager\u001b[0m\u001b[0;34m\u001b[0m\u001b[0;34m\u001b[0m\u001b[0m\n",
      "\u001b[0;32m~/miniconda3/envs/bpenv/lib/python3.8/distutils/command/build_ext.py\u001b[0m in \u001b[0;36mbuild_extension\u001b[0;34m(self, ext)\u001b[0m\n\u001b[1;32m    526\u001b[0m             \u001b[0mmacros\u001b[0m\u001b[0;34m.\u001b[0m\u001b[0mappend\u001b[0m\u001b[0;34m(\u001b[0m\u001b[0;34m(\u001b[0m\u001b[0mundef\u001b[0m\u001b[0;34m,\u001b[0m\u001b[0;34m)\u001b[0m\u001b[0;34m)\u001b[0m\u001b[0;34m\u001b[0m\u001b[0;34m\u001b[0m\u001b[0m\n\u001b[1;32m    527\u001b[0m \u001b[0;34m\u001b[0m\u001b[0m\n\u001b[0;32m--> 528\u001b[0;31m         objects = self.compiler.compile(sources,\n\u001b[0m\u001b[1;32m    529\u001b[0m                                          \u001b[0moutput_dir\u001b[0m\u001b[0;34m=\u001b[0m\u001b[0mself\u001b[0m\u001b[0;34m.\u001b[0m\u001b[0mbuild_temp\u001b[0m\u001b[0;34m,\u001b[0m\u001b[0;34m\u001b[0m\u001b[0;34m\u001b[0m\u001b[0m\n\u001b[1;32m    530\u001b[0m                                          \u001b[0mmacros\u001b[0m\u001b[0;34m=\u001b[0m\u001b[0mmacros\u001b[0m\u001b[0;34m,\u001b[0m\u001b[0;34m\u001b[0m\u001b[0;34m\u001b[0m\u001b[0m\n",
      "\u001b[0;32m~/miniconda3/envs/bpenv/lib/python3.8/distutils/ccompiler.py\u001b[0m in \u001b[0;36mcompile\u001b[0;34m(self, sources, output_dir, macros, include_dirs, debug, extra_preargs, extra_postargs, depends)\u001b[0m\n\u001b[1;32m    572\u001b[0m             \u001b[0;32mexcept\u001b[0m \u001b[0mKeyError\u001b[0m\u001b[0;34m:\u001b[0m\u001b[0;34m\u001b[0m\u001b[0;34m\u001b[0m\u001b[0m\n\u001b[1;32m    573\u001b[0m                 \u001b[0;32mcontinue\u001b[0m\u001b[0;34m\u001b[0m\u001b[0;34m\u001b[0m\u001b[0m\n\u001b[0;32m--> 574\u001b[0;31m             \u001b[0mself\u001b[0m\u001b[0;34m.\u001b[0m\u001b[0m_compile\u001b[0m\u001b[0;34m(\u001b[0m\u001b[0mobj\u001b[0m\u001b[0;34m,\u001b[0m \u001b[0msrc\u001b[0m\u001b[0;34m,\u001b[0m \u001b[0mext\u001b[0m\u001b[0;34m,\u001b[0m \u001b[0mcc_args\u001b[0m\u001b[0;34m,\u001b[0m \u001b[0mextra_postargs\u001b[0m\u001b[0;34m,\u001b[0m \u001b[0mpp_opts\u001b[0m\u001b[0;34m)\u001b[0m\u001b[0;34m\u001b[0m\u001b[0;34m\u001b[0m\u001b[0m\n\u001b[0m\u001b[1;32m    575\u001b[0m \u001b[0;34m\u001b[0m\u001b[0m\n\u001b[1;32m    576\u001b[0m         \u001b[0;31m# Return *all* object filenames, not just the ones we just built.\u001b[0m\u001b[0;34m\u001b[0m\u001b[0;34m\u001b[0m\u001b[0;34m\u001b[0m\u001b[0m\n",
      "\u001b[0;32m~/miniconda3/envs/bpenv/lib/python3.8/distutils/unixccompiler.py\u001b[0m in \u001b[0;36m_compile\u001b[0;34m(self, obj, src, ext, cc_args, extra_postargs, pp_opts)\u001b[0m\n\u001b[1;32m    118\u001b[0m                        extra_postargs)\n\u001b[1;32m    119\u001b[0m         \u001b[0;32mexcept\u001b[0m \u001b[0mDistutilsExecError\u001b[0m \u001b[0;32mas\u001b[0m \u001b[0mmsg\u001b[0m\u001b[0;34m:\u001b[0m\u001b[0;34m\u001b[0m\u001b[0;34m\u001b[0m\u001b[0m\n\u001b[0;32m--> 120\u001b[0;31m             \u001b[0;32mraise\u001b[0m \u001b[0mCompileError\u001b[0m\u001b[0;34m(\u001b[0m\u001b[0mmsg\u001b[0m\u001b[0;34m)\u001b[0m\u001b[0;34m\u001b[0m\u001b[0;34m\u001b[0m\u001b[0m\n\u001b[0m\u001b[1;32m    121\u001b[0m \u001b[0;34m\u001b[0m\u001b[0m\n\u001b[1;32m    122\u001b[0m     def create_static_lib(self, objects, output_libname,\n",
      "\u001b[0;31mCompileError\u001b[0m: command 'x86_64-apple-darwin13.4.0-clang' failed with exit status 254"
     ]
    }
   ],
   "source": [
    "# Put our data in a dictionary\n",
    "data = {'N': len(x), 'x': x, 'y': y}\n",
    "\n",
    "# Compile the model\n",
    "sm = pystan.StanModel(model_code=model)\n",
    "\n",
    "# Train the model and generate samples\n",
    "fit = sm.sampling(data=data, iter=1000, chains=4, warmup=500, thin=1, seed=101)\n",
    "print(fit)"
   ]
  },
  {
   "cell_type": "code",
   "execution_count": 6,
   "metadata": {},
   "outputs": [
    {
     "ename": "NameError",
     "evalue": "name 'fit' is not defined",
     "output_type": "error",
     "traceback": [
      "\u001b[0;31m---------------------------------------------------------------------------\u001b[0m",
      "\u001b[0;31mNameError\u001b[0m                                 Traceback (most recent call last)",
      "\u001b[0;32m/var/folders/kc/8f75rwcj3qb9w9wyprnlhdhm0000gn/T/ipykernel_27151/3403893097.py\u001b[0m in \u001b[0;36m<module>\u001b[0;34m\u001b[0m\n\u001b[0;32m----> 1\u001b[0;31m \u001b[0msummary_dict\u001b[0m \u001b[0;34m=\u001b[0m \u001b[0mfit\u001b[0m\u001b[0;34m.\u001b[0m\u001b[0msummary\u001b[0m\u001b[0;34m(\u001b[0m\u001b[0;34m)\u001b[0m\u001b[0;34m\u001b[0m\u001b[0;34m\u001b[0m\u001b[0m\n\u001b[0m\u001b[1;32m      2\u001b[0m df = pd.DataFrame(summary_dict['summary'], \n\u001b[1;32m      3\u001b[0m                   \u001b[0mcolumns\u001b[0m\u001b[0;34m=\u001b[0m\u001b[0msummary_dict\u001b[0m\u001b[0;34m[\u001b[0m\u001b[0;34m'summary_colnames'\u001b[0m\u001b[0;34m]\u001b[0m\u001b[0;34m,\u001b[0m\u001b[0;34m\u001b[0m\u001b[0;34m\u001b[0m\u001b[0m\n\u001b[1;32m      4\u001b[0m                   index=summary_dict['summary_rownames'])\n\u001b[1;32m      5\u001b[0m \u001b[0;34m\u001b[0m\u001b[0m\n",
      "\u001b[0;31mNameError\u001b[0m: name 'fit' is not defined"
     ]
    }
   ],
   "source": [
    "summary_dict = fit.summary()\n",
    "df = pd.DataFrame(summary_dict['summary'], \n",
    "                  columns=summary_dict['summary_colnames'], \n",
    "                  index=summary_dict['summary_rownames'])\n",
    "\n",
    "alpha_mean, beta_mean = df['mean']['alpha'], df['mean']['beta']\n",
    "\n",
    "# Extracting traces\n",
    "alpha = fit['alpha']\n",
    "beta = fit['beta']\n",
    "sigma = fit['sigma']\n",
    "lp = fit['lp__']"
   ]
  },
  {
   "cell_type": "code",
   "execution_count": null,
   "metadata": {},
   "outputs": [],
   "source": [
    "x_min, x_max = -0.5, 10.5\n",
    "x_plot = np.linspace(x_min, x_max, 100)\n",
    "\n",
    "# Plot a subset of sampled regression lines\n",
    "for i in np.random.randint(0, len(alpha), 1000):\n",
    "    plt.plot(x_plot, alpha[i] + beta[i] * x_plot, color='lightsteelblue',\n",
    "            alpha=0.005)\n",
    "\n",
    "# Plot mean regression line  \n",
    "plt.plot(x_plot, alpha_mean + beta_mean * x_plot)\n",
    "plt.scatter(x, y)\n",
    "\n",
    "plt.xlabel('x')\n",
    "plt.ylabel('y')\n",
    "plt.title('Fitted Regression Line')\n",
    "plt.xlim(x_min, x_max)"
   ]
  },
  {
   "cell_type": "code",
   "execution_count": null,
   "metadata": {},
   "outputs": [],
   "source": [
    "def plot_trace(param, param_name='parameter'):\n",
    "    \"\"\"Plot the trace and posterior of a parameter.\"\"\"\n",
    "\n",
    "    # Summary statistics\n",
    "    mean = np.mean(param)\n",
    "    median = np.median(param)\n",
    "    cred_min, cred_max = np.percentile(param, 2.5), np.percentile(param, 97.5)\n",
    "\n",
    "    # Plotting\n",
    "    plt.subplot(2,1,1)\n",
    "    plt.plot(param)\n",
    "    plt.xlabel('samples')\n",
    "    plt.ylabel(param_name)\n",
    "    plt.axhline(mean, color='r', lw=2, linestyle='--')\n",
    "    plt.axhline(median, color='c', lw=2, linestyle='--')\n",
    "    plt.axhline(cred_min, linestyle=':', color='k', alpha=0.2)\n",
    "    plt.axhline(cred_max, linestyle=':', color='k', alpha=0.2)\n",
    "    plt.title('Trace and Posterior Distribution for {}'.format(param_name))\n",
    "\n",
    "    plt.subplot(2,1,2)\n",
    "    plt.hist(param, 30, density=True); sns.kdeplot(param, shade=True)\n",
    "    plt.xlabel(param_name)\n",
    "    plt.ylabel('density')\n",
    "    plt.axvline(mean, color='r', lw=2, linestyle='--',label='mean')\n",
    "    plt.axvline(median, color='c', lw=2, linestyle='--',label='median')\n",
    "    plt.axvline(cred_min, linestyle=':', color='k', alpha=0.2, label='95% CI')\n",
    "    plt.axvline(cred_max, linestyle=':', color='k', alpha=0.2)\n",
    "\n",
    "    plt.gcf().tight_layout()\n",
    "    plt.legend()\n"
   ]
  },
  {
   "cell_type": "code",
   "execution_count": null,
   "metadata": {},
   "outputs": [],
   "source": [
    "plot_trace(alpha, 'alpha')\n",
    "plot_trace(beta, 'beta')\n",
    "plot_trace(sigma, 'sigma')\n",
    "plot_trace(lp, 'lp__')"
   ]
  }
 ],
 "metadata": {
  "kernelspec": {
   "display_name": "Python [conda env:bpenv] *",
   "language": "python",
   "name": "conda-env-bpenv-py"
  },
  "language_info": {
   "codemirror_mode": {
    "name": "ipython",
    "version": 3
   },
   "file_extension": ".py",
   "mimetype": "text/x-python",
   "name": "python",
   "nbconvert_exporter": "python",
   "pygments_lexer": "ipython3",
   "version": "3.8.12"
  }
 },
 "nbformat": 4,
 "nbformat_minor": 4
}
