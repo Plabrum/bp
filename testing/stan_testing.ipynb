{
 "cells": [
  {
   "cell_type": "code",
   "execution_count": 1,
   "metadata": {},
   "outputs": [],
   "source": [
    "import cmdstanpy\n",
    "import matplotlib.pyplot as plt\n",
    "import seaborn as sns\n",
    "import pandas as pd\n",
    "import numpy as np"
   ]
  },
  {
   "cell_type": "code",
   "execution_count": 5,
   "metadata": {},
   "outputs": [],
   "source": [
    "sns.set()  # Nice plot aesthetic\n",
    "np.random.seed(101)\n",
    "\n",
    "f = open(\"stan_model.stan\", \"w\")\n",
    "stan_model = \"\"\"\n",
    "data {\n",
    "    int<lower=0> N;\n",
    "    vector[N] x;\n",
    "    vector[N] y;\n",
    "}\n",
    "parameters {\n",
    "    real alpha;\n",
    "    real beta;\n",
    "    real<lower=0> sigma;\n",
    "}\n",
    "model {\n",
    "    y ~ normal(alpha + beta * x, sigma);\n",
    "}\n",
    "\"\"\"\n",
    "f.write(stan_model)\n",
    "f.close()"
   ]
  },
  {
   "cell_type": "code",
   "execution_count": 6,
   "metadata": {},
   "outputs": [
    {
     "data": {
      "image/png": "[encoded data removed]",
      "text/plain": [
       "<Figure size 432x288 with 1 Axes>"
      ]
     },
     "metadata": {},
     "output_type": "display_data"
    }
   ],
   "source": [
    "# Parameters to be inferred\n",
    "alpha = 4.0\n",
    "beta = 0.5\n",
    "sigma = 1.0\n",
    "\n",
    "# Generate and plot data\n",
    "x = 10 * np.random.rand(100)\n",
    "y = alpha + beta * x\n",
    "y = np.random.normal(y, scale=sigma)\n",
    "plt.scatter(x, y)\n",
    "\n",
    "plt.xlabel('x')\n",
    "plt.ylabel('y')\n",
    "plt.title('Scatter Plot of Data')\n",
    "plt.show()"
   ]
  },
  {
   "cell_type": "code",
   "execution_count": 11,
   "metadata": {},
   "outputs": [],
   "source": [
    "import os"
   ]
  },
  {
   "cell_type": "code",
   "execution_count": 17,
   "metadata": {},
   "outputs": [
    {
     "data": {
      "text/plain": [
       "'/Users/philip/Documents/research/bp/testing'"
      ]
     },
     "execution_count": 17,
     "metadata": {},
     "output_type": "execute_result"
    }
   ],
   "source": [
    "cwd  = os.getcwd()"
   ]
  },
  {
   "cell_type": "code",
   "execution_count": 31,
   "metadata": {},
   "outputs": [
    {
     "name": "stdout",
     "output_type": "stream",
     "text": [
      "overwriting directory\n"
     ]
    }
   ],
   "source": [
    "## make stan put files in a local area\n",
    "stan_file_dir = \"stan_files\"\n",
    "try:\n",
    "    os.mkdir(stan_file_dir)\n",
    "except:\n",
    "    print(\"overwriting directory\")\n",
    "path_stan_dir = os.path.join(os.getcwd(), stan_file_dir)"
   ]
  },
  {
   "cell_type": "code",
   "execution_count": 27,
   "metadata": {
    "scrolled": true
   },
   "outputs": [
    {
     "name": "stderr",
     "output_type": "stream",
     "text": [
      "INFO:cmdstanpy:found newer exe file, not recompiling\n",
      "INFO:cmdstanpy:compiled model file: /Users/philip/Documents/research/bp/testing/stan_model\n",
      "INFO:cmdstanpy:start chain 1\n",
      "INFO:cmdstanpy:start chain 2\n",
      "INFO:cmdstanpy:start chain 3\n",
      "INFO:cmdstanpy:start chain 4\n",
      "INFO:cmdstanpy:finish chain 3\n",
      "INFO:cmdstanpy:finish chain 4\n",
      "INFO:cmdstanpy:finish chain 2\n",
      "INFO:cmdstanpy:finish chain 1\n"
     ]
    },
    {
     "name": "stdout",
     "output_type": "stream",
     "text": [
      "CmdStanMCMC: model=stan_model chains=4['method=sample', 'algorithm=hmc', 'adapt', 'engaged=1']\n",
      " csv_files:\n",
      "\t/Users/philip/Documents/research/bp/testing/stan_files/stan_model-202111071626-1.csv\n",
      "\t/Users/philip/Documents/research/bp/testing/stan_files/stan_model-202111071626-2.csv\n",
      "\t/Users/philip/Documents/research/bp/testing/stan_files/stan_model-202111071626-3.csv\n",
      "\t/Users/philip/Documents/research/bp/testing/stan_files/stan_model-202111071626-4.csv\n",
      " output_files:\n",
      "\t/Users/philip/Documents/research/bp/testing/stan_files/stan_model-202111071626-1-stdout.txt\n",
      "\t/Users/philip/Documents/research/bp/testing/stan_files/stan_model-202111071626-2-stdout.txt\n",
      "\t/Users/philip/Documents/research/bp/testing/stan_files/stan_model-202111071626-3-stdout.txt\n",
      "\t/Users/philip/Documents/research/bp/testing/stan_files/stan_model-202111071626-4-stdout.txt\n"
     ]
    }
   ],
   "source": [
    "# Put our data in a dictionary\n",
    "data = {'N': len(x), 'x': x, 'y': y}\n",
    "\n",
    "# instantiate the model\n",
    "model = cmdstanpy.CmdStanModel(stan_file=\"stan_model.stan\")\n",
    "\n",
    "#fir the model\n",
    "fit = model.sample(data=data, output_dir=path_stan_dir)\n",
    "print(fit)"
   ]
  },
  {
   "cell_type": "code",
   "execution_count": 28,
   "metadata": {},
   "outputs": [
    {
     "data": {
      "text/html": [
       "<div>\n",
       "<style scoped>\n",
       "    .dataframe tbody tr th:only-of-type {\n",
       "        vertical-align: middle;\n",
       "    }\n",
       "\n",
       "    .dataframe tbody tr th {\n",
       "        vertical-align: top;\n",
       "    }\n",
       "\n",
       "    .dataframe thead th {\n",
       "        text-align: right;\n",
       "    }\n",
       "</style>\n",
       "<table border=\"1\" class=\"dataframe\">\n",
       "  <thead>\n",
       "    <tr style=\"text-align: right;\">\n",
       "      <th></th>\n",
       "      <th>Mean</th>\n",
       "      <th>MCSE</th>\n",
       "      <th>StdDev</th>\n",
       "      <th>5%</th>\n",
       "      <th>50%</th>\n",
       "      <th>95%</th>\n",
       "      <th>N_Eff</th>\n",
       "      <th>N_Eff/s</th>\n",
       "      <th>R_hat</th>\n",
       "    </tr>\n",
       "    <tr>\n",
       "      <th>name</th>\n",
       "      <th></th>\n",
       "      <th></th>\n",
       "      <th></th>\n",
       "      <th></th>\n",
       "      <th></th>\n",
       "      <th></th>\n",
       "      <th></th>\n",
       "      <th></th>\n",
       "      <th></th>\n",
       "    </tr>\n",
       "  </thead>\n",
       "  <tbody>\n",
       "    <tr>\n",
       "      <th>lp__</th>\n",
       "      <td>-51.00</td>\n",
       "      <td>0.03400</td>\n",
       "      <td>1.200</td>\n",
       "      <td>-53.00</td>\n",
       "      <td>-50.00</td>\n",
       "      <td>-49.00</td>\n",
       "      <td>1300.0</td>\n",
       "      <td>3500.0</td>\n",
       "      <td>1.0</td>\n",
       "    </tr>\n",
       "    <tr>\n",
       "      <th>alpha</th>\n",
       "      <td>3.90</td>\n",
       "      <td>0.00500</td>\n",
       "      <td>0.210</td>\n",
       "      <td>3.50</td>\n",
       "      <td>3.90</td>\n",
       "      <td>4.20</td>\n",
       "      <td>1700.0</td>\n",
       "      <td>4400.0</td>\n",
       "      <td>1.0</td>\n",
       "    </tr>\n",
       "    <tr>\n",
       "      <th>beta</th>\n",
       "      <td>0.52</td>\n",
       "      <td>0.00087</td>\n",
       "      <td>0.036</td>\n",
       "      <td>0.46</td>\n",
       "      <td>0.52</td>\n",
       "      <td>0.58</td>\n",
       "      <td>1700.0</td>\n",
       "      <td>4500.0</td>\n",
       "      <td>1.0</td>\n",
       "    </tr>\n",
       "    <tr>\n",
       "      <th>sigma</th>\n",
       "      <td>1.00</td>\n",
       "      <td>0.00160</td>\n",
       "      <td>0.073</td>\n",
       "      <td>0.91</td>\n",
       "      <td>1.00</td>\n",
       "      <td>1.10</td>\n",
       "      <td>2000.0</td>\n",
       "      <td>5300.0</td>\n",
       "      <td>1.0</td>\n",
       "    </tr>\n",
       "  </tbody>\n",
       "</table>\n",
       "</div>"
      ],
      "text/plain": [
       "        Mean     MCSE  StdDev     5%    50%    95%   N_Eff  N_Eff/s  R_hat\n",
       "name                                                                      \n",
       "lp__  -51.00  0.03400   1.200 -53.00 -50.00 -49.00  1300.0   3500.0    1.0\n",
       "alpha   3.90  0.00500   0.210   3.50   3.90   4.20  1700.0   4400.0    1.0\n",
       "beta    0.52  0.00087   0.036   0.46   0.52   0.58  1700.0   4500.0    1.0\n",
       "sigma   1.00  0.00160   0.073   0.91   1.00   1.10  2000.0   5300.0    1.0"
      ]
     },
     "execution_count": 28,
     "metadata": {},
     "output_type": "execute_result"
    }
   ],
   "source": [
    "fit.summary()"
   ]
  },
  {
   "cell_type": "code",
   "execution_count": null,
   "metadata": {},
   "outputs": [],
   "source": [
    "alpha = fit.stan_variable(var=\"alpha\")\n",
    "beta = fit.stan_variable(var=\"beta\")\n",
    "sigma = fit.stan_variable(var=\"sigma\")\n",
    "\n",
    "f = fit.summary()\n",
    "alpha_mean = f[\"Mean\"][\"alpha\"]\n",
    "beta_mean = f[\"Mean\"][\"beta\"]\n"
   ]
  },
  {
   "cell_type": "code",
   "execution_count": 30,
   "metadata": {},
   "outputs": [
    {
     "data": {
      "text/plain": [
       "(-0.5, 10.5)"
      ]
     },
     "execution_count": 30,
     "metadata": {},
     "output_type": "execute_result"
    },
    {
     "data": {
      "image/png": "[encoded data removed]",
      "text/plain": [
       "<Figure size 432x288 with 1 Axes>"
      ]
     },
     "metadata": {},
     "output_type": "display_data"
    }
   ],
   "source": [
    "x_min, x_max = -0.5, 10.5\n",
    "x_plot = np.linspace(x_min, x_max, 100)\n",
    "\n",
    "# Plot a subset of sampled regression lines\n",
    "for i in np.random.randint(0, len(alpha), 1000):\n",
    "    plt.plot(x_plot, alpha[i] + beta[i] * x_plot, color='lightsteelblue',\n",
    "            alpha=0.005)\n",
    "\n",
    "# Plot mean regression line  \n",
    "plt.plot(x_plot, alpha_mean + beta_mean * x_plot)\n",
    "plt.scatter(x, y, color=\"lightcoral\")\n",
    "\n",
    "plt.xlabel('x')\n",
    "plt.ylabel('y')\n",
    "plt.title('Fitted Regression Line')\n",
    "plt.xlim(x_min, x_max)"
   ]
  },
  {
   "cell_type": "code",
   "execution_count": null,
   "metadata": {},
   "outputs": [],
   "source": []
  }
 ],
 "metadata": {
  "kernelspec": {
   "display_name": "Python 3 (ipykernel)",
   "language": "python",
   "name": "python3"
  },
  "language_info": {
   "codemirror_mode": {
    "name": "ipython",
    "version": 3
   },
   "file_extension": ".py",
   "mimetype": "text/x-python",
   "name": "python",
   "nbconvert_exporter": "python",
   "pygments_lexer": "ipython3",
   "version": "3.8.12"
  }
 },
 "nbformat": 4,
 "nbformat_minor": 4
}
