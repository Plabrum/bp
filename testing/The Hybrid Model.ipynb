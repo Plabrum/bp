{
 "cells": [
  {
   "cell_type": "markdown",
   "id": "19f60ade",
   "metadata": {},
   "source": [
    "## The plan for the hybrid model:\n",
    "\n",
    "1. Write in python sams hybrid model and demonstrate learning\n",
    "2. Fix the tuned params as ground truth and apply stan to learn them\n",
    "3. demonstrate learning using groud truth graphed with error lines\n",
    "4. Try post hoc learning?"
   ]
  },
  {
   "cell_type": "code",
   "execution_count": null,
   "id": "2ca0db26",
   "metadata": {},
   "outputs": [],
   "source": []
  }
 ],
 "metadata": {
  "kernelspec": {
   "display_name": "Python 3",
   "language": "python",
   "name": "python3"
  },
  "language_info": {
   "codemirror_mode": {
    "name": "ipython",
    "version": 3
   },
   "file_extension": ".py",
   "mimetype": "text/x-python",
   "name": "python",
   "nbconvert_exporter": "python",
   "pygments_lexer": "ipython3",
   "version": "3.8.8"
  }
 },
 "nbformat": 4,
 "nbformat_minor": 5
}
