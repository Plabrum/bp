{
 "cells": [
  {
   "cell_type": "markdown",
   "id": "19f60ade",
   "metadata": {},
   "source": [
    "## The plan for the hybrid model:\n",
    "\n",
    "1. Write in python sams hybrid model and demonstrate learning\n",
    "2. Fix the tuned params as ground truth and apply stan to learn them\n",
    "3. demonstrate learning using groud truth graphed with error lines\n",
    "4. Try post hoc learning?"
   ]
  },
  {
   "cell_type": "code",
   "execution_count": 1,
   "id": "9a4dc292-e1f9-43a5-876f-881e7481f967",
   "metadata": {},
   "outputs": [],
   "source": [
    "import numpy as np\n",
    "import matplotlib.pyplot as plt\n",
    "%matplotlib widget\n",
    "rng = np.random.default_rng()"
   ]
  },
  {
   "cell_type": "code",
   "execution_count": null,
   "id": "1a5b94f4-6448-4a43-8a01-ae81d7c8913f",
   "metadata": {},
   "outputs": [],
   "source": [
    "class Bandit():\n",
    "    def __init__(self, length, arms=None):\n",
    "        # Starting with just dual arm bandits!\n",
    "        # Usage: [(arm1_mean, arm1_std), (arm2_mean, arm2_std)]\n",
    "        if arms is None:\n",
    "            arms = [(0, 1), (0, 1), (0, 1), (0, 1), (0, 1)]\n",
    "\n",
    "        self.arms = arms\n",
    "        # Create the test_set\n",
    "        self.test_set = []\n",
    "        for _ in range(length):\n",
    "            self.test_set.append([np.random.normal(loc=mean, scale=std) for mean, std in self.arms])\n",
    "\n",
    "    def __str__(self):\n",
    "        ret = \"\"\n",
    "        for c, arm in enumerate(self.arms):\n",
    "            ret += \"Arm \"+str(c)+\"\\t Mean: \"+str(arm[0])+\"\\tStd: \"+str(arm[1])+\"\\n\"\n",
    "        return f\"{ret}\\nTest Set:\\n{str(self.test_set)}\""
   ]
  },
  {
   "cell_type": "code",
   "execution_count": 37,
   "id": "cde6b702-4bf6-48dc-9a2f-8d6640cd4bd0",
   "metadata": {},
   "outputs": [
    {
     "data": {
      "text/plain": [
       "array([ 0.16123708,  0.09809102, -0.05701851, -0.07090606, -0.08183892])"
      ]
     },
     "execution_count": 37,
     "metadata": {},
     "output_type": "execute_result"
    }
   ],
   "source": [
    "s = [0.03125, 0.08333333,  0.08333333, 0.08333333, 0.08333333]\n",
    "m =  [ 0.16099557,  0.09858405, -0.05835445, -0.0709279,  -0.08194819]\n",
    "recs = np.zeros((10000, 5))\n",
    "for i in range(10000):\n",
    "    recs[i] = rng.normal(m, s)\n",
    "np.mean(recs, axis=0)"
   ]
  },
  {
   "cell_type": "code",
   "execution_count": 101,
   "id": "21b91b2d-5440-46e3-bc28-81a521bd1515",
   "metadata": {},
   "outputs": [],
   "source": [
    "w=[0.5,0.5]\n",
    "K=5\n",
    "nTrials=100\n",
    "m = np.array([1.5, 1, 0.5, -0.5, -1])\n",
    "# initialise the estimated mean of each arm to 0\n",
    "mhat = np.zeros(K)\n",
    "# initialise estimated variance of each arm to 1\n",
    "shat = 0.5*np.ones(K)\n",
    "# Observation noise variance\n",
    "v = 0.1\n",
    "# Create regret array\n",
    "regret = np.zeros(nTrials)\n",
    "trial = 0"
   ]
  },
  {
   "cell_type": "code",
   "execution_count": 121,
   "id": "340e6c58-5e8c-4e84-baec-b99d6990e3fc",
   "metadata": {},
   "outputs": [
    {
     "name": "stdout",
     "output_type": "stream",
     "text": [
      "Trial: 20\n",
      "m: [ 1.5  1.   0.5 -0.5 -1. ]\n",
      "mhat: [1.53396335 0.         0.         0.         0.        ]\n",
      "d [ 1.53643959 -0.05225475 -0.34515952  0.00449183  0.56720471]\n",
      "g 0.0495049504950495\n",
      "shat [0.0049505 0.5       0.5       0.5       0.5      ]\n",
      "reward 1.470623259279034\n",
      "action 0\n",
      "reg 0.0\n",
      "ucb bonus [0.03608439 0.35355339 0.35355339 0.35355339 0.35355339]\n"
     ]
    }
   ],
   "source": [
    "trial+=1\n",
    "# sample from the scaled posterior\n",
    "d = rng.normal(mhat, w[1]*shat)\n",
    "# Add UCB bonus\n",
    "ucb_bonus= w[0]*np.sqrt(shat)\n",
    "action = np.argmax(d+ucb_bonus)\n",
    "\n",
    "# Observe reward\n",
    "reward = rng.normal(m[action], v)\n",
    "# Calculate Regret\n",
    "reg = np.max(m) - m[action]\n",
    "regret[trial] = reg\n",
    "# Calculate Kalman Gain\n",
    "g = shat[action] / (shat[action] + v)\n",
    "# Update Mean Estimate\n",
    "mhat[action] = mhat[action] + g*(reward - mhat[action])\n",
    "# Update Variance Estimate\n",
    "shat[action] = shat[action] - g*shat[action]\n",
    "\n",
    "print(\"Trial:\", trial)\n",
    "print(\"m:\", m)\n",
    "print(\"mhat:\", mhat)\n",
    "print(\"d\", d)\n",
    "print(\"g\", g)\n",
    "print(\"shat\", shat)\n",
    "print(\"reward\", reward)\n",
    "print(\"action\", action)\n",
    "print(\"reg\", reg)\n",
    "print(\"ucb bonus\", ucb_bonus)"
   ]
  },
  {
   "cell_type": "code",
   "execution_count": 123,
   "id": "ce15935d-20b0-41f4-b149-62f0288e331f",
   "metadata": {},
   "outputs": [
    {
     "data": {
      "text/plain": [
       "array([0., 0., 0., 0., 0., 0., 0., 0., 0., 0., 0., 0., 0., 0., 0., 0., 0.,\n",
       "       0., 0., 0.])"
      ]
     },
     "execution_count": 123,
     "metadata": {},
     "output_type": "execute_result"
    }
   ],
   "source": [
    "regret[:trial]"
   ]
  },
  {
   "cell_type": "code",
   "execution_count": 122,
   "id": "d5c9e83c-b8e8-4612-8f1a-c76b23bb6342",
   "metadata": {},
   "outputs": [
    {
     "data": {
      "application/vnd.jupyter.widget-view+json": {
       "model_id": "1aad16f95a2e4bdf90be64d5186ee165",
       "version_major": 2,
       "version_minor": 0
      },
      "text/html": [
       "\n",
       "            <div style=\"display: inline-block;\">\n",
       "                <div class=\"jupyter-widgets widget-label\" style=\"text-align: center;\">\n",
       "                    Figure\n",
       "                </div>\n",
       "                <img src='data:image/png;base64,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' width=640.0/>\n",
       "            </div>\n",
       "        "
      ],
      "text/plain": [
       "Canvas(toolbar=Toolbar(toolitems=[('Home', 'Reset original view', 'home', 'home'), ('Back', 'Back to previous …"
      ]
     },
     "metadata": {},
     "output_type": "display_data"
    }
   ],
   "source": [
    "plt.close(\"all\")\n",
    "adapted = np.cumsum(regret[:trial])/np.arange(1,trial+1)\n",
    "plt.plot(adapted)\n",
    "plt.show()"
   ]
  },
  {
   "cell_type": "code",
   "execution_count": 124,
   "id": "f038433a-c6a3-41e7-9aa9-7710b3e1ad18",
   "metadata": {},
   "outputs": [],
   "source": [
    "def hybrid(w, K, nTrials, debug=False):\n",
    "    # w = Weights\n",
    "    # nTrials = Number of Trials\n",
    "    # K = arms\n",
    "    # Create the mean reward values for each arm\n",
    "    m = rng.normal(0, 0.5, size=(K))\n",
    "    # initialise the estimated mean of each arm to 0\n",
    "    mhat = np.zeros(K)\n",
    "    # initialise estimated variance of each arm to 1\n",
    "    shat = 0.5*np.ones(K)\n",
    "    # Observation noise variance\n",
    "    v = 0.1\n",
    "    # Create regret array\n",
    "    regret = np.zeros(nTrials)\n",
    "\n",
    "    for trial in range(nTrials):\n",
    "        # sample from the scaled posterior\n",
    "        d = rng.normal(mhat, w[1]*shat)\n",
    "        # Add UCB bonus\n",
    "        ucb_bonus= w[0]*np.sqrt(shat)\n",
    "        action = np.argmax(d+ucb_bonus)\n",
    "\n",
    "        # Observe reward\n",
    "        reward = rng.normal(m[action], v)\n",
    "        # Calculate Regret\n",
    "        regret[trial] = np.max(m) - m[action]\n",
    "        # Calculate Kalman Gain\n",
    "        g = shat[action] / (shat[action] + v)\n",
    "        # Update Mean Estimate\n",
    "        mhat[action] = mhat[action] + g*(reward - mhat[action])\n",
    "        # Update Variance Estimate\n",
    "        shat[action] = shat[action] - g*shat[action]\n",
    "        \n",
    "        if debug and (trial == 99):\n",
    "            print(\"Actual Arm Values:\", m)\n",
    "            print(\"Estimated Arm Values:\", mhat)\n",
    "            print(\"Exploration Values:\", d)\n",
    "            print(\"------------------------\")\n",
    "            print(\"best action\", np.argmax(m))\n",
    "            print(\"chosen action:\", action)\n",
    "            print(\"------------------------\")\n",
    "            print(\"highest reward\", max(m))\n",
    "            print(\"Selected reward\", reward)\n",
    "            print(\"regret\", regret[trial])\n",
    "        \n",
    "        # posterior sampling\n",
    "        #m = mvnrnd(B*m,Q)';\n",
    "        # m = rng.normal(m, 0)\n",
    "        \n",
    "\n",
    "    average_regret = np.cumsum(regret)/ np.arange(1,nTrials+1)\n",
    "    return average_regret"
   ]
  },
  {
   "cell_type": "code",
   "execution_count": 125,
   "id": "63c440d4-d42c-444b-bf57-f19a4d07b894",
   "metadata": {},
   "outputs": [
    {
     "data": {
      "application/vnd.jupyter.widget-view+json": {
       "model_id": "d9a0b96c05e84f239de4b1cf26b41b7f",
       "version_major": 2,
       "version_minor": 0
      },
      "text/html": [
       "\n",
       "            <div style=\"display: inline-block;\">\n",
       "                <div class=\"jupyter-widgets widget-label\" style=\"text-align: center;\">\n",
       "                    Figure\n",
       "                </div>\n",
       "                <img src='data:image/png;base64,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' width=640.0/>\n",
       "            </div>\n",
       "        "
      ],
      "text/plain": [
       "Canvas(toolbar=Toolbar(toolitems=[('Home', 'Reset original view', 'home', 'home'), ('Back', 'Back to previous …"
      ]
     },
     "metadata": {},
     "output_type": "display_data"
    }
   ],
   "source": [
    "plt.close()\n",
    "run1 = hybrid(w=[0.5,0.5], K=5, nTrials=100, debug=False)\n",
    "run2 = hybrid(w=[0.5,0.5], K=5, nTrials=100, debug=False)\n",
    "run3 = hybrid(w=[0.5,0.5], K=5, nTrials=100, debug=False)\n",
    "run4 = hybrid(w=[0.5,0.5], K=5, nTrials=100, debug=False)\n",
    "plt.plot(np.mean([run1, run2, run3, run4], axis=0))\n",
    "plt.show()"
   ]
  },
  {
   "cell_type": "code",
   "execution_count": 129,
   "id": "6b46b416-68bf-4464-a591-728570401b06",
   "metadata": {},
   "outputs": [],
   "source": [
    "def hybrid(w, K, nTrials, debug=False):\n",
    "    # w = Weights\n",
    "    # nTrials = Number of Trials\n",
    "    # K = arms\n",
    "    # Create the mean reward values for each arm\n",
    "    m = rng.normal(0, 0.5, size=(K))\n",
    "    # initialise the estimated mean of each arm to 0\n",
    "    mhat = np.zeros(K)\n",
    "    # initialise estimated variance of each arm to 1\n",
    "    shat = 0.5*np.ones(K)\n",
    "    # Observation noise variance\n",
    "    v = 0.1\n",
    "    # Create regret array\n",
    "    regret = np.zeros(nTrials)\n",
    "\n",
    "    for trial in range(nTrials):\n",
    "        # sample from the scaled posterior\n",
    "        d = rng.normal(mhat, w[1]*shat)\n",
    "        # Add UCB bonus\n",
    "        ucb_bonus= w[0]*np.sqrt(shat)\n",
    "        action = np.argmax(d+ucb_bonus)\n",
    "\n",
    "        # Observe reward\n",
    "        reward = rng.normal(m[action], v)\n",
    "        # Calculate Regret\n",
    "        regret[trial] = np.max(m) - m[action]\n",
    "        # Calculate Kalman Gain\n",
    "        g = shat[action] / (shat[action] + v)\n",
    "        # Update Mean Estimate\n",
    "        mhat[action] = mhat[action] + g*(reward - mhat[action])\n",
    "        # Update Variance Estimate\n",
    "        shat[action] = shat[action] - g*shat[action]\n",
    "\n",
    "    average_regret = np.cumsum(regret)/ np.arange(1,nTrials+1)\n",
    "    return average_regret"
   ]
  },
  {
   "cell_type": "code",
   "execution_count": 130,
   "id": "d85c9076-d827-4045-a467-cec25938195f",
   "metadata": {},
   "outputs": [],
   "source": [
    "# number of reps\n",
    "nReps = 100\n",
    "# number of trials\n",
    "nTrials = 100\n",
    "# Arms\n",
    "K = 5\n",
    "# Thompson, UCB, Hybrid\n",
    "test_weights = {\"Thompson\": [1, 0], \"UCB\": [0, 1], \"Hybrid\": [0.5, 0.5]}\n",
    "\n",
    "test_results = {\"Thompson\": np.zeros(nTrials), \"UCB\": np.zeros(nTrials), \"Hybrid\": np.zeros(nTrials)}\n",
    "\n",
    "for test in test_weights.keys():\n",
    "    average_regrets = np.zeros((nReps, nTrials))\n",
    "    for rep in range(nReps):\n",
    "        average_regrets[rep] = hybrid(w=weights[test], K=K, nTrials=nTrials)\n",
    "    test_results[test] = np.mean(average_regrets, axis=0)\n",
    "    \n",
    "## Plotting\n",
    "fig, ax = plt.subplots()\n",
    "plt.title(\"Average Rewards\")\n",
    "ax.set_xlabel(\"Trial Number\")\n",
    "ax.set_ylabel(\"Average Regret\")\n",
    "for test in test_results.keys():\n",
    "    ax.plot(test_results[test], label=test)\n",
    "ax.legend()\n",
    "plt.show()"
   ]
  },
  {
   "cell_type": "code",
   "execution_count": 131,
   "id": "8703d717-4c8a-41ef-bee4-8e074ed07984",
   "metadata": {},
   "outputs": [
    {
     "data": {
      "application/vnd.jupyter.widget-view+json": {
       "model_id": "2d026ff0d47c45f3ba6f354334dbc851",
       "version_major": 2,
       "version_minor": 0
      },
      "text/html": [
       "\n",
       "            <div style=\"display: inline-block;\">\n",
       "                <div class=\"jupyter-widgets widget-label\" style=\"text-align: center;\">\n",
       "                    Figure\n",
       "                </div>\n",
       "                <img src='data:image/png;base64,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' width=640.0/>\n",
       "            </div>\n",
       "        "
      ],
      "text/plain": [
       "Canvas(toolbar=Toolbar(toolitems=[('Home', 'Reset original view', 'home', 'home'), ('Back', 'Back to previous …"
      ]
     },
     "metadata": {},
     "output_type": "display_data"
    }
   ],
   "source": []
  },
  {
   "cell_type": "code",
   "execution_count": null,
   "id": "33d087d4-81e7-4946-8a17-9367c891ea01",
   "metadata": {},
   "outputs": [],
   "source": []
  },
  {
   "cell_type": "code",
   "execution_count": null,
   "id": "81771393-772c-4317-8952-b7673cba09cf",
   "metadata": {},
   "outputs": [],
   "source": [
    "plt.close(\"all\")"
   ]
  },
  {
   "cell_type": "code",
   "execution_count": null,
   "id": "36a50928-e586-4f0f-babc-fec58a71f33b",
   "metadata": {},
   "outputs": [],
   "source": [
    "def __init__(self):\n",
    "        self.Q = [0,0]\n",
    "        self.sigma = [100,100]\n",
    "        self.tau = [10, 10]\n",
    "        # self.alpha = 0\n",
    "        self.n = [1,1]\n",
    "\n",
    "        # theta = 0 is entirely UCB, 1 is entirely thompson\n",
    "        self.theta = 0\n",
    "        self.regret = []\n",
    "        \n",
    "    def q_update(self, arm, reward):\n",
    "        # This can be redefined later\n",
    "        # Default\n",
    "        # self.Q[arm] = self.Q[arm] + self.alpha*(reward - self.Q[arm])\n",
    "        self.Q[arm] = self.Q[arm] + ((reward - self.Q[arm])/self.n[arm])\n",
    "\n",
    "    def sigma_update(self, arm):\n",
    "        # self.sigma[arm] = np.sqrt(pow(self.sigma[arm],2) - self.alpha*pow(self.sigma[arm],2))\n",
    "        self.sigma[arm] = pow(self.tau[arm], 2)/self.n[arm]\n",
    "\n",
    "    def alpha_update(self, arm):\n",
    "        self.alpha = pow(self.sigma[arm],2)/(pow(self.sigma[arm],2) + pow(self.tau[arm], 2))\n",
    "\n",
    "    def n_update(self, arm):\n",
    "        self.n[arm] += 1\n",
    "\n",
    "    def choice(self):\n",
    "        ucb = (self.Q[0] - self.Q[1])/np.sqrt(pow(self.sigma[0], 2) + pow(self.sigma[1], 2))\n",
    "        thompson = self.Q[0] - self.Q[1]\n",
    "        combined = self.theta*ucb + (1 - self.theta)*thompson\n",
    "        return int(np.round(sp.norm.cdf(combined)))\n",
    "\n",
    "    def learn(self, bandit):\n",
    "        for arms in bandit.test_set:\n",
    "            # Choose an arm\n",
    "            selected_arm = self.choice()\n",
    "            best_arm = np.argmax(arms)\n",
    "            # Record the regret of the choice\n",
    "            regret = arms[best_arm] - arms[selected_arm]\n",
    "            self.regret.append(regret)\n",
    "\n",
    "            # Alpha update no longer needed in \n",
    "            # self.alpha_update(selected_arm)\n",
    "\n",
    "            # Call each of the update functions\n",
    "            self.q_update(selected_arm, arms[selected_arm])\n",
    "            self.sigma_update(selected_arm)\n",
    "            self.n_update(selected_arm)\n",
    "        \n",
    "        return self.Q"
   ]
  },
  {
   "cell_type": "markdown",
   "id": "19eda045-fe45-4221-8131-86d6a3bb7f6b",
   "metadata": {},
   "source": [
    "## Original:"
   ]
  },
  {
   "cell_type": "code",
   "execution_count": null,
   "id": "2ca0db26",
   "metadata": {},
   "outputs": [],
   "source": [
    "# This creates a default agent that can be rewritten for adaptations\n",
    "class Agent():\n",
    "    def __init__(self):\n",
    "        self.Q = [0,0]\n",
    "        self.sigma = [100,100]\n",
    "        self.tau = [10, 10]\n",
    "        # self.alpha = 0\n",
    "        self.n = [1,1]\n",
    "\n",
    "        # theta = 0 is entirely UCB, 1 is entirely thompson\n",
    "        self.theta = 0\n",
    "        self.regret = []\n",
    "        \n",
    "    def q_update(self, arm, reward):\n",
    "        # This can be redefined later\n",
    "        # Default\n",
    "        # self.Q[arm] = self.Q[arm] + self.alpha*(reward - self.Q[arm])\n",
    "        self.Q[arm] = self.Q[arm] + ((reward - self.Q[arm])/self.n[arm])\n",
    "\n",
    "    def sigma_update(self, arm):\n",
    "        # self.sigma[arm] = np.sqrt(pow(self.sigma[arm],2) - self.alpha*pow(self.sigma[arm],2))\n",
    "        self.sigma[arm] = pow(self.tau[arm], 2)/self.n[arm]\n",
    "\n",
    "    def alpha_update(self, arm):\n",
    "        self.alpha = pow(self.sigma[arm],2)/(pow(self.sigma[arm],2) + pow(self.tau[arm], 2))\n",
    "\n",
    "    def n_update(self, arm):\n",
    "        self.n[arm] += 1\n",
    "\n",
    "    def choice(self):\n",
    "        ucb = (self.Q[0] - self.Q[1])/np.sqrt(pow(self.sigma[0], 2) + pow(self.sigma[1], 2))\n",
    "        thompson = self.Q[0] - self.Q[1]\n",
    "        combined = self.theta*ucb + (1 - self.theta)*thompson\n",
    "        return int(np.round(sp.norm.cdf(combined)))\n",
    "\n",
    "    def learn(self, bandit):\n",
    "        for arms in bandit.test_set:\n",
    "            # Choose an arm\n",
    "            selected_arm = self.choice()\n",
    "            best_arm = np.argmax(arms)\n",
    "            # Record the regret of the choice\n",
    "            regret = arms[best_arm] - arms[selected_arm]\n",
    "            self.regret.append(regret)\n",
    "\n",
    "            # Alpha update no longer needed in \n",
    "            # self.alpha_update(selected_arm)\n",
    "\n",
    "            # Call each of the update functions\n",
    "            self.q_update(selected_arm, arms[selected_arm])\n",
    "            self.sigma_update(selected_arm)\n",
    "            self.n_update(selected_arm)\n",
    "        \n",
    "        return self.Q\n",
    "            \n",
    "    def plot_loss(self):\n",
    "        fig, ax = plt.subplots()\n",
    "        ax.set(xlabel=\"Iteration\", ylabel=\"Cumulative Regret\", title=\"Model Performance\")\n",
    "        ax.plot(np.cumsum(self.regret))\n",
    "        return ax\n",
    "\n",
    "\n",
    "\n",
    "if __name__ == '__main__':\n",
    "    b1 = Bandit(length=1000, arms=[(1, 1), (-1, 1)])\n",
    "    ag = Agent()\n",
    "    ag.learn(b1)\n",
    "    ag.plot_loss()\n",
    "    plt.show()\n"
   ]
  }
 ],
 "metadata": {
  "kernelspec": {
   "display_name": "Python 3 (ipykernel)",
   "language": "python",
   "name": "python3"
  },
  "language_info": {
   "codemirror_mode": {
    "name": "ipython",
    "version": 3
   },
   "file_extension": ".py",
   "mimetype": "text/x-python",
   "name": "python",
   "nbconvert_exporter": "python",
   "pygments_lexer": "ipython3",
   "version": "3.8.12"
  }
 },
 "nbformat": 4,
 "nbformat_minor": 5
}
