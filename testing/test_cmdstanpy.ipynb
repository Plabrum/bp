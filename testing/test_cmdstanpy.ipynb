{
 "cells": [
  {
   "cell_type": "markdown",
   "metadata": {
    "colab_type": "text",
    "id": "view-in-github"
   },
   "source": [
    "<a href=\"https://colab.research.google.com/github/stan-dev/example-models/blob/master/jupyter/covid-inf-rate/SantaClara_CmdStanPy.ipynb\" target=\"_parent\"><img src=\"https://colab.research.google.com/assets/colab-badge.svg\" alt=\"Open In Colab\"/></a>"
   ]
  },
  {
   "cell_type": "markdown",
   "metadata": {
    "colab_type": "text",
    "id": "PRpyEjTGMvGJ"
   },
   "source": [
    "# Simple Bayesian analysis inference of coronavirus infection rate from the Stanford study in Santa Clara county\n",
    "\n",
    "This Google Colab Python notebook provides the models and data discussed here:  [Simple Bayesian analysis inference of coronavirus infection rate from the Stanford study in Santa Clara county](https://statmodeling.stat.columbia.edu/2020/05/01/simple-bayesian-analysis-inference-of-coronavirus-infection-rate-from-the-stanford-study-in-santa-clara-county/)\n",
    "\n",
    "It uses CmdStanPy to compile and fit the model.  \n",
    "\n",
    "\n",
    "#### First up, a little admin to get the latest CmdStanPy and CmdStan installed on this instance.\n"
   ]
  },
  {
   "cell_type": "code",
   "execution_count": 0,
   "metadata": {
    "colab": {},
    "colab_type": "code",
    "id": "_PhuUXhaLk2o"
   },
   "outputs": [],
   "source": [
    "# Load packages used in this notebook\n",
    "import os\n",
    "import json\n",
    "import shutil\n",
    "import urllib.request\n",
    "import pandas as pd"
   ]
  },
  {
   "cell_type": "code",
   "execution_count": 0,
   "metadata": {
    "colab": {},
    "colab_type": "code",
    "id": "XjVPUpT7U5DA"
   },
   "outputs": [],
   "source": [
    "# Please use the latest version of CmdStanPy\n",
    "pip install --upgrade cmdstanpy"
   ]
  },
  {
   "cell_type": "code",
   "execution_count": 0,
   "metadata": {
    "colab": {},
    "colab_type": "code",
    "id": "csMJH1d6Euvg"
   },
   "outputs": [],
   "source": [
    "# Install pre-built CmdStan binary\n",
    "# (faster than compiling from source via install_cmdstan() function)\n",
    "tgz_file = 'colab-cmdstan-2.23.0.tar.gz'\n",
    "tgz_url = 'https://github.com/stan-dev/cmdstan/releases/download/v2.23.0/colab-cmdstan-2.23.0.tar.gz'\n",
    "if not os.path.exists(tgz_file):\n",
    "    urllib.request.urlretrieve(tgz_url, tgz_file)\n",
    "    shutil.unpack_archive(tgz_file)"
   ]
  },
  {
   "cell_type": "code",
   "execution_count": 0,
   "metadata": {
    "colab": {},
    "colab_type": "code",
    "id": "poxkQLCAFYt2"
   },
   "outputs": [],
   "source": [
    "# Specify CmdStan location via environment variable\n",
    "os.environ['CMDSTAN'] = './cmdstan-2.23.0'\n",
    "# Check CmdStan path\n",
    "from cmdstanpy import CmdStanModel, cmdstan_path\n",
    "cmdstan_path()"
   ]
  },
  {
   "cell_type": "markdown",
   "metadata": {
    "colab_type": "text",
    "id": "yQS1YxCjOAIk"
   },
   "source": [
    "#### Upload models and data from GitHub\n",
    "\n",
    "The models and data are available on the Stan GitHub repo https://github.com/stan-dev/example-models/tree/master/jupyter/covid-inf-rate"
   ]
  },
  {
   "cell_type": "code",
   "execution_count": 0,
   "metadata": {
    "colab": {},
    "colab_type": "code",
    "id": "p471RApxEBtR"
   },
   "outputs": [],
   "source": [
    "# Upload models and data onto this instance (raw github content files)\n",
    "urllib.request.urlretrieve('https://raw.githubusercontent.com/stan-dev/example-models/master/jupyter/covid-inf-rate/data/santa_clara_all.data.json', 'santa_clara_all.data.json')\n",
    "urllib.request.urlretrieve('https://raw.githubusercontent.com/stan-dev/example-models/master/jupyter/covid-inf-rate/data/santa_clara_apr_11.data.json', 'santa_clara_apr_11.data.json')\n",
    "urllib.request.urlretrieve('https://raw.githubusercontent.com/stan-dev/example-models/master/jupyter/covid-inf-rate/data/santa_clara_apr_27.data.json', 'santa_clara_apr_27.data.json')\n",
    "urllib.request.urlretrieve('https://raw.githubusercontent.com/stan-dev/example-models/master/jupyter/covid-inf-rate/stan/pool_sens_spec.stan', 'pool_sens_spec.stan')\n",
    "urllib.request.urlretrieve('https://raw.githubusercontent.com/stan-dev/example-models/master/jupyter/covid-inf-rate/stan/hier_sens_spec.stan', 'hier_sens_spec.stan')\n",
    "urllib.request.urlretrieve('https://raw.githubusercontent.com/stan-dev/example-models/master/jupyter/covid-inf-rate/stan/hier_sens_spec_offset_mult.stan', 'hier_sens_spec_offset_mult.stan')\n",
    "!ls\n",
    "!echo \"\"\n",
    "!echo \"santa_clara_apr_11.data.json:\"\n",
    "!cat santa_clara_apr_11.data.json"
   ]
  },
  {
   "cell_type": "markdown",
   "metadata": {
    "colab_type": "text",
    "id": "GMUDMOh_WvQD"
   },
   "source": [
    "In the Santa Clara study, of the 3330 people tested (`n_sample`), 50 test results were positive (`y_sample`).  The first version of the paper was released on April 11th, and used specificity data from two studies and sensitivity data from two other studies."
   ]
  },
  {
   "cell_type": "code",
   "execution_count": 0,
   "metadata": {
    "colab": {},
    "colab_type": "code",
    "id": "vjcmosNlULIe"
   },
   "outputs": [],
   "source": [
    "apr_11 = {}\n",
    "with open('santa_clara_apr_11.data.json') as json_file:\n",
    "    apr_11 = json.load(json_file)\n",
    "apr_11"
   ]
  },
  {
   "cell_type": "markdown",
   "metadata": {
    "colab_type": "text",
    "id": "2vOK9GRzYK7J"
   },
   "source": [
    "### Simple Model\n",
    "\n",
    "The first Stan model in this blogpost is called \"santaclara.stan\".  It a complete pooling model, therefore we'll call it \"pool_sens_spec.stan\"."
   ]
  },
  {
   "cell_type": "code",
   "execution_count": 0,
   "metadata": {
    "colab": {},
    "colab_type": "code",
    "id": "WsWXdSUWU9Pt"
   },
   "outputs": [],
   "source": [
    "!cat pool_sens_spec.stan"
   ]
  },
  {
   "cell_type": "markdown",
   "metadata": {
    "colab_type": "text",
    "id": "lul55yiNY6IF"
   },
   "source": [
    "We use CmdStanPy to compile and fit the model to the data."
   ]
  },
  {
   "cell_type": "code",
   "execution_count": 0,
   "metadata": {
    "colab": {},
    "colab_type": "code",
    "id": "N6WxoNTtY0oE"
   },
   "outputs": [],
   "source": [
    "pool_model = CmdStanModel(stan_file='pool_sens_spec.stan')\n",
    "apr_11_fit = pool_model.sample(data=apr_11)"
   ]
  },
  {
   "cell_type": "markdown",
   "metadata": {
    "colab_type": "text",
    "id": "JITCl_Ytazse"
   },
   "source": [
    "CmdStanPy reports the central 90% interval, (following McElreath, 2016).  Given the April 11th dataset, this interval is [0.002 - 0.018], thus the data are consistent with an underlying infection rate of between 0 and 2%."
   ]
  },
  {
   "cell_type": "code",
   "execution_count": 0,
   "metadata": {
    "colab": {},
    "colab_type": "code",
    "id": "ZpJ9hFNeZSwW"
   },
   "outputs": [],
   "source": [
    "apr_11_fit.summary().round(decimals=3).iloc[1:4,:]"
   ]
  },
  {
   "cell_type": "code",
   "execution_count": 0,
   "metadata": {
    "colab": {},
    "colab_type": "code",
    "id": "fXFR7goCZiRC"
   },
   "outputs": [],
   "source": [
    "apr_11_drawset = apr_11_fit.get_drawset()\n",
    "apr_11_drawset.p.plot.hist()"
   ]
  },
  {
   "cell_type": "markdown",
   "metadata": {
    "colab_type": "text",
    "id": "1V8-wjzPd_7y"
   },
   "source": [
    "We repeat this procedure with the data from the April 27th version of the study, which has specificity data from 13 studies and sensitivity data from 3 studies.  Again, we pool the results from all studies."
   ]
  },
  {
   "cell_type": "code",
   "execution_count": 0,
   "metadata": {
    "colab": {},
    "colab_type": "code",
    "id": "HOHzdMrwZldS"
   },
   "outputs": [],
   "source": [
    "apr_27 = {}\n",
    "with open('santa_clara_apr_11.data.json') as json_file:\n",
    "    apr_27 = json.load(json_file)\n",
    "apr_27"
   ]
  },
  {
   "cell_type": "code",
   "execution_count": 0,
   "metadata": {
    "colab": {},
    "colab_type": "code",
    "id": "I-UGkEK1d-6j"
   },
   "outputs": [],
   "source": [
    "apr_27_fit = pool_model.sample(data=apr_27)\n",
    "apr_27_fit.summary().round(decimals=3).iloc[1:4,:]\n"
   ]
  },
  {
   "cell_type": "code",
   "execution_count": 0,
   "metadata": {
    "colab": {},
    "colab_type": "code",
    "id": "1htb7q9Oeq8s"
   },
   "outputs": [],
   "source": [
    "apr_27_drawset = apr_27_fit.get_drawset()\n",
    "apr_27_drawset.p.plot.hist()"
   ]
  },
  {
   "cell_type": "markdown",
   "metadata": {
    "colab_type": "text",
    "id": "XM8aWSpUfCy0"
   },
   "source": [
    "### Hierarchical Model\n",
    "\n",
    "The hierarchical model allows the sensitivities and specificities to vary across studies.\n",
    "In the blogpost is called \"santaclara_hier.stan\".  We'll call it \"hier_sens_spec.stan\""
   ]
  },
  {
   "cell_type": "code",
   "execution_count": 0,
   "metadata": {
    "colab": {},
    "colab_type": "code",
    "id": "j_kxzeklezvI"
   },
   "outputs": [],
   "source": [
    "!cat hier_sens_spec.stan"
   ]
  },
  {
   "cell_type": "markdown",
   "metadata": {
    "colab_type": "text",
    "id": "0FstmbADhwDl"
   },
   "source": [
    "__Note__: this model has the suggested tight prior on `sigma_sens` in order to compensate for only having data from 3 studies to fit."
   ]
  },
  {
   "cell_type": "markdown",
   "metadata": {
    "colab_type": "text",
    "id": "dkEXV2VhgIwf"
   },
   "source": [
    "For this model, the data is broken out by study.  We copied this data out of page 19 of the report and munged it into the forms required by the model's data block variable definitions."
   ]
  },
  {
   "cell_type": "code",
   "execution_count": 0,
   "metadata": {
    "colab": {},
    "colab_type": "code",
    "id": "z1WhQ8K3f6tP"
   },
   "outputs": [],
   "source": [
    "hier_data = {}\n",
    "with open('santa_clara_all.data.json') as json_file:\n",
    "    hier_data = json.load(json_file)\n",
    "hier_data"
   ]
  },
  {
   "cell_type": "markdown",
   "metadata": {
    "colab_type": "text",
    "id": "L1CzZED7FtCS"
   },
   "source": [
    "In order to avoid divergent iterations, which result in biased estimates, we set the parameter adapt_delta to 0.98.  To check the resulting sample, we run CmdStan's `diagnose` utility."
   ]
  },
  {
   "cell_type": "code",
   "execution_count": 0,
   "metadata": {
    "colab": {},
    "colab_type": "code",
    "id": "yRkkjERag-_J"
   },
   "outputs": [],
   "source": [
    "hier_model = CmdStanModel(stan_file='hier_sens_spec.stan')\n",
    "hier_fit = hier_model.sample(data=hier_data, adapt_delta=0.98)"
   ]
  },
  {
   "cell_type": "code",
   "execution_count": 0,
   "metadata": {
    "colab": {},
    "colab_type": "code",
    "id": "qCOV7poz_nSM"
   },
   "outputs": [],
   "source": [
    "hier_fit.diagnose()"
   ]
  },
  {
   "cell_type": "code",
   "execution_count": 0,
   "metadata": {
    "colab": {},
    "colab_type": "code",
    "id": "srm_Q95ahPlZ"
   },
   "outputs": [],
   "source": [
    "hier_fit.summary().loc[['p', 'mu_spec', 'sigma_spec', 'mu_sens', 'sigma_sens'],].round(decimals=3)"
   ]
  },
  {
   "cell_type": "markdown",
   "metadata": {
    "colab_type": "text",
    "id": "sAD1MVohig5F"
   },
   "source": [
    "This central 90% interval is [0.005 - 0.022]."
   ]
  },
  {
   "cell_type": "code",
   "execution_count": 0,
   "metadata": {
    "colab": {},
    "colab_type": "code",
    "id": "df24B145heQY"
   },
   "outputs": [],
   "source": [
    "hier_drawset = hier_fit.get_drawset()\n",
    "hier_drawset.p.plot.hist(bins=20,range=(0.0,0.03),density=True)"
   ]
  },
  {
   "cell_type": "markdown",
   "metadata": {
    "colab_type": "text",
    "id": "JXtqYRjPi-V1"
   },
   "source": [
    "Bob Carpenter provided a second version of the hierarchical model in which the parameters for the item-level specificities and sensitivies are specified using the Stan language \"offset, multiplier\" syntax which allows for affine transforms on real-valued variables.  See the Stan Language Reference Manual, chapter [Univariate Data Types and Variable Declarations](https://mc-stan.org/docs/2_23/reference-manual/univariate-data-types-and-variable-declarations.html) for further details. We call this model \"hier_sens_spec_offset_mult.stan\"\n"
   ]
  },
  {
   "cell_type": "code",
   "execution_count": 0,
   "metadata": {
    "colab": {},
    "colab_type": "code",
    "id": "4WN9IQVTi7sf"
   },
   "outputs": [],
   "source": [
    "!cat hier_sens_spec_offset_mult.stan"
   ]
  },
  {
   "cell_type": "code",
   "execution_count": 0,
   "metadata": {
    "colab": {},
    "colab_type": "code",
    "id": "Q6nNFkrFlJ3u"
   },
   "outputs": [],
   "source": [
    "hier_model_v2 = CmdStanModel(stan_file='hier_sens_spec_offset_mult.stan')\n",
    "hier_fit_v2 = hier_model_v2.sample(data=hier_data, adapt_delta=0.98)\n",
    "hier_fit_v2.diagnose()"
   ]
  },
  {
   "cell_type": "code",
   "execution_count": 0,
   "metadata": {
    "colab": {},
    "colab_type": "code",
    "id": "K4pUuA7e_zpl"
   },
   "outputs": [],
   "source": [
    "hier_fit_v2.summary().loc[['p', 'mu_logit_spec', 'sigma_logit_spec', 'mu_logit_sens', 'sigma_logit_sens'],].round(decimals=3)"
   ]
  },
  {
   "cell_type": "code",
   "execution_count": 0,
   "metadata": {
    "colab": {},
    "colab_type": "code",
    "id": "xJ9tfSTBladB"
   },
   "outputs": [],
   "source": [
    "hier_drawset_v2 = hier_fit_v2.get_drawset()\n",
    "hier_drawset_v2.p.plot.hist(bins=20,range=(0.0,0.03),density=True)"
   ]
  },
  {
   "cell_type": "markdown",
   "metadata": {
    "colab_type": "text",
    "id": "vGBOK0c4ekFv"
   },
   "source": [
    "### Play around with the models and data\n",
    "\n",
    "If you want to play around with your models and data, you can do so using Colab's `file.upload` utility."
   ]
  },
  {
   "cell_type": "code",
   "execution_count": 0,
   "metadata": {
    "colab": {},
    "colab_type": "code",
    "id": "nZh7IS4fl8VM"
   },
   "outputs": [],
   "source": [
    "from google.colab import files"
   ]
  },
  {
   "cell_type": "markdown",
   "metadata": {
    "colab_type": "text",
    "id": "V38jwvTvfbtQ"
   },
   "source": [
    "The `files.upload()` function allows you to choose files on your machine to upload. It returns a Python dictionary which is a map of filenames to their contents."
   ]
  },
  {
   "cell_type": "code",
   "execution_count": 0,
   "metadata": {
    "colab": {},
    "colab_type": "code",
    "id": "QCjxWPoKfVoE"
   },
   "outputs": [],
   "source": [
    "uploaded = files.upload()\n",
    "uploaded"
   ]
  },
  {
   "cell_type": "markdown",
   "metadata": {
    "colab_type": "text",
    "id": "50vnyQN3gObz"
   },
   "source": [
    "The uploaded files are also saved into the current working directory, so you can refer to them directly by filename. Therefore, once you've uploaded a new Stan program file, you can use this colab notebook to fit your model to the data."
   ]
  },
  {
   "cell_type": "code",
   "execution_count": 0,
   "metadata": {
    "colab": {},
    "colab_type": "code",
    "id": "POhsju4ffld2"
   },
   "outputs": [],
   "source": [
    "!ls -lt | head -3"
   ]
  },
  {
   "cell_type": "code",
   "execution_count": 0,
   "metadata": {
    "colab": {},
    "colab_type": "code",
    "id": "w5zVoY_8gTF7"
   },
   "outputs": [],
   "source": []
  }
 ],
 "metadata": {
  "colab": {
   "authorship_tag": "ABX9TyN1oagX6vCOD9nEfpF/t/vS",
   "collapsed_sections": [],
   "include_colab_link": true,
   "name": "SantaClara_CmdStanPy.ipynb",
   "provenance": []
  },
  "kernelspec": {
   "display_name": "Python 3",
   "language": "python",
   "name": "python3"
  },
  "language_info": {
   "codemirror_mode": {
    "name": "ipython",
    "version": 3
   },
   "file_extension": ".py",
   "mimetype": "text/x-python",
   "name": "python",
   "nbconvert_exporter": "python",
   "pygments_lexer": "ipython3",
   "version": "3.8.8"
  }
 },
 "nbformat": 4,
 "nbformat_minor": 1
}
