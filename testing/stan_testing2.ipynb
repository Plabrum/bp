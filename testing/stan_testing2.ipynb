{
 "cells": [
  {
   "cell_type": "code",
   "execution_count": 15,
   "metadata": {},
   "outputs": [],
   "source": [
    "import cmdstanpy\n",
    "import matplotlib.pyplot as plt\n",
    "import seaborn as sns\n",
    "import pandas as pd\n",
    "import numpy as np"
   ]
  },
  {
   "cell_type": "code",
   "execution_count": 24,
   "metadata": {},
   "outputs": [],
   "source": [
    "sns.set()  # Nice plot aesthetic\n",
    "np.random.seed(101)\n",
    "\n",
    "f = open(\"stan_model.stan\", \"x\")\n",
    "stan_model = \"\"\"\n",
    "data {\n",
    "    int<lower=0> N;\n",
    "    vector[N] x;\n",
    "    vector[N] y;\n",
    "}\n",
    "parameters {\n",
    "    real alpha;\n",
    "    real beta;\n",
    "    real<lower=0> sigma;\n",
    "}\n",
    "model {\n",
    "    y ~ normal(alpha + beta * x, sigma);\n",
    "}\n",
    "\"\"\"\n",
    "f.write(stan_model)\n",
    "f.close()"
   ]
  },
  {
   "cell_type": "code",
   "execution_count": 36,
   "metadata": {},
   "outputs": [
    {
     "data": {
      "image/png": "[encoded data removed]",
      "text/plain": [
       "<Figure size 432x288 with 1 Axes>"
      ]
     },
     "metadata": {},
     "output_type": "display_data"
    }
   ],
   "source": [
    "# Parameters to be inferred\n",
    "alpha = 4.0\n",
    "beta = 0.5\n",
    "sigma = 1.0\n",
    "\n",
    "# Generate and plot data\n",
    "x = 10 * np.random.rand(100)\n",
    "y = alpha + beta * x\n",
    "y = np.random.normal(y, scale=sigma)\n",
    "plt.scatter(x, y)\n",
    "\n",
    "plt.xlabel('x')\n",
    "plt.ylabel('y')\n",
    "plt.title('Scatter Plot of Data')\n",
    "plt.show()"
   ]
  },
  {
   "cell_type": "code",
   "execution_count": 25,
   "metadata": {
    "scrolled": true
   },
   "outputs": [
    {
     "name": "stderr",
     "output_type": "stream",
     "text": [
      "INFO:cmdstanpy:compiling stan program, exe file: /Users/philip/Documents/research/bp/stan_model\n",
      "INFO:cmdstanpy:compiler options: stanc_options={}, cpp_options={}\n",
      "INFO:cmdstanpy:compiled model file: /Users/philip/Documents/research/bp/stan_model\n",
      "INFO:cmdstanpy:start chain 1\n",
      "INFO:cmdstanpy:start chain 2\n",
      "INFO:cmdstanpy:start chain 3\n",
      "INFO:cmdstanpy:start chain 4\n",
      "INFO:cmdstanpy:finish chain 1\n",
      "INFO:cmdstanpy:finish chain 2\n",
      "INFO:cmdstanpy:finish chain 3\n",
      "INFO:cmdstanpy:finish chain 4\n"
     ]
    },
    {
     "name": "stdout",
     "output_type": "stream",
     "text": [
      "CmdStanMCMC: model=stan_model chains=4['method=sample', 'algorithm=hmc', 'adapt', 'engaged=1']\n",
      " csv_files:\n",
      "\t/var/folders/kc/8f75rwcj3qb9w9wyprnlhdhm0000gn/T/tmpqfpooq_d/stan_model-202111021220-1-2_mij9gy.csv\n",
      "\t/var/folders/kc/8f75rwcj3qb9w9wyprnlhdhm0000gn/T/tmpqfpooq_d/stan_model-202111021220-2-yc1vmaad.csv\n",
      "\t/var/folders/kc/8f75rwcj3qb9w9wyprnlhdhm0000gn/T/tmpqfpooq_d/stan_model-202111021220-3-65bh1705.csv\n",
      "\t/var/folders/kc/8f75rwcj3qb9w9wyprnlhdhm0000gn/T/tmpqfpooq_d/stan_model-202111021220-4-wms4ta7t.csv\n",
      " output_files:\n",
      "\t/var/folders/kc/8f75rwcj3qb9w9wyprnlhdhm0000gn/T/tmpqfpooq_d/stan_model-202111021220-1-2_mij9gy-stdout.txt\n",
      "\t/var/folders/kc/8f75rwcj3qb9w9wyprnlhdhm0000gn/T/tmpqfpooq_d/stan_model-202111021220-2-yc1vmaad-stdout.txt\n",
      "\t/var/folders/kc/8f75rwcj3qb9w9wyprnlhdhm0000gn/T/tmpqfpooq_d/stan_model-202111021220-3-65bh1705-stdout.txt\n",
      "\t/var/folders/kc/8f75rwcj3qb9w9wyprnlhdhm0000gn/T/tmpqfpooq_d/stan_model-202111021220-4-wms4ta7t-stdout.txt\n"
     ]
    }
   ],
   "source": [
    "# Put our data in a dictionary\n",
    "data = {'N': len(x), 'x': x, 'y': y}\n",
    "\n",
    "# instantiate the model\n",
    "model = cmdstanpy.CmdStanModel(stan_file=\"stan_model.stan\")\n",
    "\n",
    "#fir the model\n",
    "fit = model.sample(data=data)\n",
    "print(fit)"
   ]
  },
  {
   "cell_type": "code",
   "execution_count": 31,
   "metadata": {},
   "outputs": [
    {
     "data": {
      "text/html": [
       "<div>\n",
       "<style scoped>\n",
       "    .dataframe tbody tr th:only-of-type {\n",
       "        vertical-align: middle;\n",
       "    }\n",
       "\n",
       "    .dataframe tbody tr th {\n",
       "        vertical-align: top;\n",
       "    }\n",
       "\n",
       "    .dataframe thead th {\n",
       "        text-align: right;\n",
       "    }\n",
       "</style>\n",
       "<table border=\"1\" class=\"dataframe\">\n",
       "  <thead>\n",
       "    <tr style=\"text-align: right;\">\n",
       "      <th></th>\n",
       "      <th>Mean</th>\n",
       "      <th>MCSE</th>\n",
       "      <th>StdDev</th>\n",
       "      <th>5%</th>\n",
       "      <th>50%</th>\n",
       "      <th>95%</th>\n",
       "      <th>N_Eff</th>\n",
       "      <th>N_Eff/s</th>\n",
       "      <th>R_hat</th>\n",
       "    </tr>\n",
       "    <tr>\n",
       "      <th>name</th>\n",
       "      <th></th>\n",
       "      <th></th>\n",
       "      <th></th>\n",
       "      <th></th>\n",
       "      <th></th>\n",
       "      <th></th>\n",
       "      <th></th>\n",
       "      <th></th>\n",
       "      <th></th>\n",
       "    </tr>\n",
       "  </thead>\n",
       "  <tbody>\n",
       "    <tr>\n",
       "      <th>lp__</th>\n",
       "      <td>-51.00</td>\n",
       "      <td>0.03500</td>\n",
       "      <td>1.300</td>\n",
       "      <td>-53.00</td>\n",
       "      <td>-50.00</td>\n",
       "      <td>-49.00</td>\n",
       "      <td>1300.0</td>\n",
       "      <td>3000.0</td>\n",
       "      <td>1.0</td>\n",
       "    </tr>\n",
       "    <tr>\n",
       "      <th>alpha</th>\n",
       "      <td>3.90</td>\n",
       "      <td>0.00500</td>\n",
       "      <td>0.210</td>\n",
       "      <td>3.50</td>\n",
       "      <td>3.90</td>\n",
       "      <td>4.20</td>\n",
       "      <td>1800.0</td>\n",
       "      <td>4000.0</td>\n",
       "      <td>1.0</td>\n",
       "    </tr>\n",
       "    <tr>\n",
       "      <th>beta</th>\n",
       "      <td>0.52</td>\n",
       "      <td>0.00088</td>\n",
       "      <td>0.036</td>\n",
       "      <td>0.46</td>\n",
       "      <td>0.52</td>\n",
       "      <td>0.58</td>\n",
       "      <td>1700.0</td>\n",
       "      <td>3900.0</td>\n",
       "      <td>1.0</td>\n",
       "    </tr>\n",
       "    <tr>\n",
       "      <th>sigma</th>\n",
       "      <td>1.00</td>\n",
       "      <td>0.00160</td>\n",
       "      <td>0.073</td>\n",
       "      <td>0.91</td>\n",
       "      <td>1.00</td>\n",
       "      <td>1.10</td>\n",
       "      <td>2200.0</td>\n",
       "      <td>5000.0</td>\n",
       "      <td>1.0</td>\n",
       "    </tr>\n",
       "  </tbody>\n",
       "</table>\n",
       "</div>"
      ],
      "text/plain": [
       "        Mean     MCSE  StdDev     5%    50%    95%   N_Eff  N_Eff/s  R_hat\n",
       "name                                                                      \n",
       "lp__  -51.00  0.03500   1.300 -53.00 -50.00 -49.00  1300.0   3000.0    1.0\n",
       "alpha   3.90  0.00500   0.210   3.50   3.90   4.20  1800.0   4000.0    1.0\n",
       "beta    0.52  0.00088   0.036   0.46   0.52   0.58  1700.0   3900.0    1.0\n",
       "sigma   1.00  0.00160   0.073   0.91   1.00   1.10  2200.0   5000.0    1.0"
      ]
     },
     "execution_count": 31,
     "metadata": {},
     "output_type": "execute_result"
    }
   ],
   "source": [
    "fit.summary()"
   ]
  },
  {
   "cell_type": "code",
   "execution_count": 59,
   "metadata": {},
   "outputs": [],
   "source": [
    "alpha = fit.stan_variable(var=\"alpha\")\n",
    "beta = fit.stan_variable(var=\"beta\")\n",
    "sigma = fit.stan_variable(var=\"sigma\")\n",
    "\n",
    "f = fit.summary()\n",
    "alpha_mean = f[\"Mean\"][\"alpha\"]\n",
    "beta_mean = f[\"Mean\"][\"beta\"]\n"
   ]
  },
  {
   "cell_type": "code",
   "execution_count": 64,
   "metadata": {},
   "outputs": [
    {
     "data": {
      "text/plain": [
       "(-0.5, 10.5)"
      ]
     },
     "execution_count": 64,
     "metadata": {},
     "output_type": "execute_result"
    },
    {
     "data": {
      "image/png": "[encoded data removed]",
      "text/plain": [
       "<Figure size 432x288 with 1 Axes>"
      ]
     },
     "metadata": {},
     "output_type": "display_data"
    }
   ],
   "source": [
    "x_min, x_max = -0.5, 10.5\n",
    "x_plot = np.linspace(x_min, x_max, 100)\n",
    "\n",
    "# Plot a subset of sampled regression lines\n",
    "for i in np.random.randint(0, len(alpha), 1000):\n",
    "    plt.plot(x_plot, alpha[i] + beta[i] * x_plot, color='lightsteelblue',\n",
    "            alpha=0.005)\n",
    "\n",
    "# Plot mean regression line  \n",
    "plt.plot(x_plot, alpha_mean + beta_mean * x_plot)\n",
    "plt.scatter(x, y, color=\"lightcoral\")\n",
    "\n",
    "plt.xlabel('x')\n",
    "plt.ylabel('y')\n",
    "plt.title('Fitted Regression Line')\n",
    "plt.xlim(x_min, x_max)"
   ]
  }
 ],
 "metadata": {
  "kernelspec": {
   "display_name": "Python 3",
   "language": "python",
   "name": "python3"
  },
  "language_info": {
   "codemirror_mode": {
    "name": "ipython",
    "version": 3
   },
   "file_extension": ".py",
   "mimetype": "text/x-python",
   "name": "python",
   "nbconvert_exporter": "python",
   "pygments_lexer": "ipython3",
   "version": "3.8.8"
  }
 },
 "nbformat": 4,
 "nbformat_minor": 4
}
